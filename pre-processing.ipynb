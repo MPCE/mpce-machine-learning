{
 "cells": [
  {
   "cell_type": "markdown",
   "metadata": {},
   "source": [
    "#  Mapping Print, Charting Enlightenment\n",
    "\n",
    "##  Machine Learning Experiment 1: Classifying books by titles and other metadata\n",
    "\n",
    "Team: Rachel Hendery, Tomas Trescak, Katie McDonough, Michael Falk, Simon Burrows\n",
    "\n",
    "## Notebook 1: logistic regression on a DTM\n",
    "\n",
    "Author: Michael Falk\n",
    "\n",
    "In this notebook, I import the training data as a data table, and construct a document-term matrix. This is then used to train the first model, which isn't very good."
   ]
  },
  {
   "cell_type": "code",
   "execution_count": 50,
   "metadata": {},
   "outputs": [],
   "source": [
    "# Load libraries\n",
    "\n",
    "import pandas as pd # for importing and manipulating data\n",
    "import matplotlib.pyplot as plt\n",
    "import re # regex tools\n",
    "import numpy as np # matematical functions\n",
    "from nltk.tokenize import wordpunct_tokenize # tokeniser\n",
    "from nltk.stem.snowball import SnowballStemmer # French stemmer\n",
    "from sklearn.feature_extraction.text import CountVectorizer # for creating term-document matrix\n"
   ]
  },
  {
   "cell_type": "code",
   "execution_count": 51,
   "metadata": {},
   "outputs": [
    {
     "data": {
      "text/html": [
       "<div>\n",
       "<style scoped>\n",
       "    .dataframe tbody tr th:only-of-type {\n",
       "        vertical-align: middle;\n",
       "    }\n",
       "\n",
       "    .dataframe tbody tr th {\n",
       "        vertical-align: top;\n",
       "    }\n",
       "\n",
       "    .dataframe thead th {\n",
       "        text-align: right;\n",
       "    }\n",
       "</style>\n",
       "<table border=\"1\" class=\"dataframe\">\n",
       "  <thead>\n",
       "    <tr style=\"text-align: right;\">\n",
       "      <th></th>\n",
       "      <th>concatenated</th>\n",
       "      <th>parisian_keyword</th>\n",
       "    </tr>\n",
       "  </thead>\n",
       "  <tbody>\n",
       "    <tr>\n",
       "      <th>0</th>\n",
       "      <td>Pseudo Place of publication unknown Almanach d...</td>\n",
       "      <td>Belles-Lettres</td>\n",
       "    </tr>\n",
       "    <tr>\n",
       "      <th>1</th>\n",
       "      <td>Pseudo Place of publication unknown Apparat ro...</td>\n",
       "      <td>Belles-Lettres</td>\n",
       "    </tr>\n",
       "    <tr>\n",
       "      <th>2</th>\n",
       "      <td>Pseudo Place of publication unknown Nouvelle (...</td>\n",
       "      <td>Belles-Lettres</td>\n",
       "    </tr>\n",
       "    <tr>\n",
       "      <th>3</th>\n",
       "      <td>Probable French editions Boulevard (le) des Ch...</td>\n",
       "      <td>Belles-Lettres</td>\n",
       "    </tr>\n",
       "    <tr>\n",
       "      <th>4</th>\n",
       "      <td>Certain Dutch editions Contes moraux, par Mde ...</td>\n",
       "      <td>Belles-Lettres</td>\n",
       "    </tr>\n",
       "  </tbody>\n",
       "</table>\n",
       "</div>"
      ],
      "text/plain": [
       "                                        concatenated parisian_keyword\n",
       "0  Pseudo Place of publication unknown Almanach d...   Belles-Lettres\n",
       "1  Pseudo Place of publication unknown Apparat ro...   Belles-Lettres\n",
       "2  Pseudo Place of publication unknown Nouvelle (...   Belles-Lettres\n",
       "3  Probable French editions Boulevard (le) des Ch...   Belles-Lettres\n",
       "4  Certain Dutch editions Contes moraux, par Mde ...   Belles-Lettres"
      ]
     },
     "execution_count": 51,
     "metadata": {},
     "output_type": "execute_result"
    }
   ],
   "source": [
    "# Import data\n",
    "\n",
    "data = pd.read_csv(\"data/concatenated.csv\").dropna()\n",
    "\n",
    "data.head()"
   ]
  },
  {
   "cell_type": "code",
   "execution_count": 52,
   "metadata": {},
   "outputs": [],
   "source": [
    "# Tokenise and normalise the title text\n",
    "\n",
    "# Create stemming function\n",
    "def fr_stemmer(token):\n",
    "    '''Takes a token and stems it using the Snowball French stemmer'''\n",
    "    return SnowballStemmer(\"french\").stem(token)\n",
    "\n",
    "title_strings_norm = [] # initialise list of word vectors\n",
    "for title in data[\"concatenated\"]: # loop over titles\n",
    "    title = title.lower() # make all letters lower case\n",
    "    tokens = wordpunct_tokenize(title) # tokenise\n",
    "    stems = list(map(fr_stemmer, tokens)) # stem the words (note: if we are using all columns, there's a bunch of English in there too, but I really don't think it matters)\n",
    "    reduced = [stem for stem in stems if len(stem) > 2] # strip out function words and punctuation marks\n",
    "    title_string = \" \".join(reduced) # concatenate into string, to be passed to CountVectorizer\n",
    "    title_strings_norm.append(title_string) # append to results list"
   ]
  },
  {
   "cell_type": "code",
   "execution_count": 53,
   "metadata": {},
   "outputs": [
    {
     "data": {
      "text/plain": [
       "'pseudo plac publiqu unknown nouveau voyag franc stern suiv histoir fevr choix lettr famili mêm auteur traduit anglois par *****, avocat général parl *** voyag nouveau stern franc voyag sentimental franc tristram shandy excerpt english french attribu edit not identified edit located lausann 1785 and genev 1785 nouveau voyag franc stern'"
      ]
     },
     "execution_count": 53,
     "metadata": {},
     "output_type": "execute_result"
    }
   ],
   "source": [
    "# Sanity check\n",
    "import random\n",
    "title_strings_norm[random.randint(1,len(title_strings_norm))]"
   ]
  },
  {
   "cell_type": "code",
   "execution_count": 54,
   "metadata": {},
   "outputs": [],
   "source": [
    "# Format data for ML algorithm\n",
    "\n",
    "vec = CountVectorizer()\n",
    "X = vec.fit_transform(title_strings_norm) # X is a dtm, of 3987 docs and 6343 words\n",
    "y = list(data[\"parisian_keyword\"]) "
   ]
  },
  {
   "cell_type": "code",
   "execution_count": 55,
   "metadata": {},
   "outputs": [
    {
     "name": "stdout",
     "output_type": "stream",
     "text": [
      "X has 3706 rows and 11663 columns.\n",
      "y has 3706 rows.\n"
     ]
    }
   ],
   "source": [
    "print(\"X has %d rows and %d columns.\" % X.shape)\n",
    "print(\"y has %d rows.\" % len(y))"
   ]
  },
  {
   "cell_type": "code",
   "execution_count": 56,
   "metadata": {},
   "outputs": [],
   "source": [
    "# Have a go with some simple classifiers\n",
    "\n",
    "# Split into training and test data\n",
    "from sklearn.model_selection import train_test_split\n",
    "X_train, X_test, y_train, y_test = train_test_split(X, y, test_size = 0.25, random_state=5)\n",
    "\n",
    "# Use sklearn's logistic regression model\n",
    "from sklearn.multiclass import OneVsRestClassifier\n",
    "from sklearn.linear_model import LogisticRegression\n",
    "lg = OneVsRestClassifier(estimator = LogisticRegression(max_iter = 100), n_jobs = 2) # initialise classifier\n",
    "lg.fit(X_train, y_train) # fit to the training data\n",
    "predictions = lg.predict(X_test) # compute predictions for the test data"
   ]
  },
  {
   "cell_type": "code",
   "execution_count": 57,
   "metadata": {},
   "outputs": [
    {
     "name": "stdout",
     "output_type": "stream",
     "text": [
      "\n",
      " \n",
      "The model classified 683 of the 927 examples correctly.\n",
      "Accuracy = 73.2%\n"
     ]
    },
    {
     "data": {
      "image/png": "[encoded data removed]",
      "text/plain": [
       "<matplotlib.figure.Figure at 0x172e153bc88>"
      ]
     },
     "metadata": {},
     "output_type": "display_data"
    }
   ],
   "source": [
    "# Compute confusion matrix and accuracy (you need to execute the cell below to see the plot)\n",
    "correct = predictions == y_test\n",
    "accuracy = correct.sum()/len(correct)*100\n",
    "print(\"\\n \\nThe model classified %d of the %d examples correctly.\" % (correct.sum(), len(correct)))\n",
    "print(\"Accuracy = %d.2%%\" % accuracy)\n",
    "\n",
    "from sklearn.metrics import confusion_matrix\n",
    "cm = confusion_matrix(y_test, predictions)\n",
    "plt.figure()\n",
    "plot_confusion_matrix(cm, classes=lg.classes_, normalize = True)\n",
    "plt.show()"
   ]
  },
  {
   "cell_type": "code",
   "execution_count": 58,
   "metadata": {},
   "outputs": [],
   "source": [
    "# A function for plotting the confusion matrix, copied from scikit-learn.org\n",
    "import itertools\n",
    "import matplotlib.pyplot as plt\n",
    "def plot_confusion_matrix(cm, classes,\n",
    "                          normalize=False,\n",
    "                          title='Confusion matrix',\n",
    "                          cmap=plt.cm.Blues):\n",
    "    \"\"\"\n",
    "    This function prints and plots the confusion matrix.\n",
    "    Normalization can be applied by setting `normalize=True`.\n",
    "    \"\"\"\n",
    "    if normalize:\n",
    "        cm = cm.astype('float') / cm.sum(axis=1)[:, np.newaxis]\n",
    "        # print(\"Normalized confusion matrix\")\n",
    "    # else:\n",
    "        # print('Confusion matrix, without normalization')\n",
    "\n",
    "    # print(cm)\n",
    "\n",
    "    plt.imshow(cm, interpolation='nearest', cmap=cmap)\n",
    "    plt.title(title)\n",
    "    plt.colorbar()\n",
    "    tick_marks = np.arange(len(classes))\n",
    "    plt.xticks(tick_marks, classes, rotation=90)\n",
    "    plt.yticks(tick_marks, classes)\n",
    "\n",
    "    fmt = '.2f' if normalize else 'd'\n",
    "    thresh = cm.max() / 2.\n",
    "    for i, j in itertools.product(range(cm.shape[0]), range(cm.shape[1])):\n",
    "        plt.text(j, i, format(cm[i, j], fmt),\n",
    "                 horizontalalignment=\"center\",\n",
    "                 color=\"white\" if cm[i, j] > thresh else \"black\")\n",
    "\n",
    "    plt.tight_layout()\n",
    "    plt.ylabel('True label')\n",
    "    plt.xlabel('Predicted label')"
   ]
  },
  {
   "cell_type": "markdown",
   "metadata": {},
   "source": [
    "If just using titles only, after 1 iteration, it classifies the examples with 68% accuracy, and then after only two or three more iterations it converges on 70.2% and won't improve. \n",
    "\n",
    "If using all columns (except the keyword ones, obviously), we get around 77% accuracy. \n",
    "\n",
    "We could compare it with a purely random model..."
   ]
  },
  {
   "cell_type": "code",
   "execution_count": 18,
   "metadata": {},
   "outputs": [
    {
     "name": "stdout",
     "output_type": "stream",
     "text": [
      "Randomly shuffling the data predicts the correct label with 25.2% accuracy.\n"
     ]
    }
   ],
   "source": [
    "rand_y = y.copy()\n",
    "np.random.shuffle(rand_y)\n",
    "rand_correct = np.array(rand_y) == np.array(y)\n",
    "rand_acc = 100*rand_correct.sum()/len(y)\n",
    "print(\"Randomly shuffling the data predicts the correct label with %d.2%% accuracy.\" % rand_acc)"
   ]
  },
  {
   "cell_type": "markdown",
   "metadata": {},
   "source": [
    "We could try to fix up the simple classifier. We could try an SVM. We could get into the nuts and bolts and try to generate more complex features. I think the best option will be to try a deep neural net, and spend the time tuning that."
   ]
  },
  {
   "cell_type": "code",
   "execution_count": null,
   "metadata": {},
   "outputs": [],
   "source": []
  }
 ],
 "metadata": {
  "kernelspec": {
   "display_name": "Python 3",
   "language": "python",
   "name": "python3"
  },
  "language_info": {
   "codemirror_mode": {
    "name": "ipython",
    "version": 3
   },
   "file_extension": ".py",
   "mimetype": "text/x-python",
   "name": "python",
   "nbconvert_exporter": "python",
   "pygments_lexer": "ipython3",
   "version": "3.6.4"
  }
 },
 "nbformat": 4,
 "nbformat_minor": 2
}
