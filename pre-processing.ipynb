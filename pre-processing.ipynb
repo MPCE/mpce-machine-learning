{
 "cells": [
  {
   "cell_type": "markdown",
   "metadata": {},
   "source": [
    "#  Mapping Print, Charting Enlightenment\n",
    "\n",
    "##  Machine Learning Experiment 1: Classifying books by titles and other metadata\n",
    "\n",
    "Team: Rachel Hendery, Tomas Trescak, Katie McDonough, Michael Falk, Simon Burrows\n",
    "\n",
    "## Notebook 1: logistic regression on a DTM\n",
    "\n",
    "Author: Michael Falk\n",
    "\n",
    "In this notebook, I import the training data as a data table, and construct a document-term matrix. This is then used to train the first model, which isn't very good."
   ]
  },
  {
   "cell_type": "code",
   "execution_count": 1,
   "metadata": {},
   "outputs": [],
   "source": [
    "# Load libraries\n",
    "\n",
    "import pandas as pd # for importing and manipulating data\n",
    "import re # regex tools\n",
    "import numpy as np # matematical functions\n",
    "from nltk.tokenize import wordpunct_tokenize # tokeniser\n",
    "from nltk.stem.snowball import SnowballStemmer # French stemmer\n",
    "from sklearn.feature_extraction.text import CountVectorizer # for creating term-document matrix"
   ]
  },
  {
   "cell_type": "code",
   "execution_count": 2,
   "metadata": {},
   "outputs": [
    {
     "data": {
      "text/html": [
       "<div>\n",
       "<style scoped>\n",
       "    .dataframe tbody tr th:only-of-type {\n",
       "        vertical-align: middle;\n",
       "    }\n",
       "\n",
       "    .dataframe tbody tr th {\n",
       "        vertical-align: top;\n",
       "    }\n",
       "\n",
       "    .dataframe thead th {\n",
       "        text-align: right;\n",
       "    }\n",
       "</style>\n",
       "<table border=\"1\" class=\"dataframe\">\n",
       "  <thead>\n",
       "    <tr style=\"text-align: right;\">\n",
       "      <th></th>\n",
       "      <th>full_book_title</th>\n",
       "      <th>stated_publication_places</th>\n",
       "      <th>number_of_volumes</th>\n",
       "      <th>parisian_keyword</th>\n",
       "    </tr>\n",
       "  </thead>\n",
       "  <tbody>\n",
       "    <tr>\n",
       "      <th>0</th>\n",
       "      <td>Abrégé de l'Histoire générale des voyages, con...</td>\n",
       "      <td>Paris</td>\n",
       "      <td>23</td>\n",
       "      <td>Histoire</td>\n",
       "    </tr>\n",
       "    <tr>\n",
       "      <th>1</th>\n",
       "      <td>Almanach des muses</td>\n",
       "      <td>n.pl.</td>\n",
       "      <td>1</td>\n",
       "      <td>Belles-Lettres</td>\n",
       "    </tr>\n",
       "    <tr>\n",
       "      <th>2</th>\n",
       "      <td>Art (l') de peindre sur l'émail</td>\n",
       "      <td>n.pl.</td>\n",
       "      <td>1</td>\n",
       "      <td>Science et Arts</td>\n",
       "    </tr>\n",
       "    <tr>\n",
       "      <th>3</th>\n",
       "      <td>Apparat royal, dictionnaire françois et latin,...</td>\n",
       "      <td>n.pl.</td>\n",
       "      <td>1</td>\n",
       "      <td>Belles-Lettres</td>\n",
       "    </tr>\n",
       "    <tr>\n",
       "      <th>4</th>\n",
       "      <td>Nouvelle (la) Académie des dames, ou histoire ...</td>\n",
       "      <td>n.pl.</td>\n",
       "      <td>1</td>\n",
       "      <td>Belles-Lettres</td>\n",
       "    </tr>\n",
       "  </tbody>\n",
       "</table>\n",
       "</div>"
      ],
      "text/plain": [
       "                                     full_book_title  \\\n",
       "0  Abrégé de l'Histoire générale des voyages, con...   \n",
       "1                                 Almanach des muses   \n",
       "2                    Art (l') de peindre sur l'émail   \n",
       "3  Apparat royal, dictionnaire françois et latin,...   \n",
       "4  Nouvelle (la) Académie des dames, ou histoire ...   \n",
       "\n",
       "  stated_publication_places  number_of_volumes parisian_keyword  \n",
       "0                     Paris                 23         Histoire  \n",
       "1                     n.pl.                  1   Belles-Lettres  \n",
       "2                     n.pl.                  1  Science et Arts  \n",
       "3                     n.pl.                  1   Belles-Lettres  \n",
       "4                     n.pl.                  1   Belles-Lettres  "
      ]
     },
     "execution_count": 2,
     "metadata": {},
     "output_type": "execute_result"
    }
   ],
   "source": [
    "# Import data\n",
    "\n",
    "data = pd.read_csv(\"c:/git/mpce-machine-learning/data/editions_trimmed.csv\").dropna()\n",
    "\n",
    "data.head()"
   ]
  },
  {
   "cell_type": "code",
   "execution_count": 3,
   "metadata": {},
   "outputs": [],
   "source": [
    "# Tokenise and normalise the title text\n",
    "\n",
    "# Create stemming function\n",
    "def fr_stemmer(token):\n",
    "    '''Takes a token and stems it using the Snowball French stemmer'''\n",
    "    return SnowballStemmer(\"french\").stem(token)\n",
    "\n",
    "title_strings_norm = [] # initialise list of word vectors\n",
    "for title in data[\"full_book_title\"]: # loop over titles\n",
    "    title = title.lower() # make all letters lower case\n",
    "    tokens = wordpunct_tokenize(title) # tokenise\n",
    "    stems = list(map(fr_stemmer, tokens)) # stem the words\n",
    "    reduced = [stem for stem in stems if len(stem) > 2] # strip out function words and punctuation marks\n",
    "    title_string = \" \".join(reduced) # concatenate into string, to be passed to CountVectorizer\n",
    "    title_strings_norm.append(title_string) # append to results list"
   ]
  },
  {
   "cell_type": "code",
   "execution_count": 4,
   "metadata": {},
   "outputs": [
    {
     "data": {
      "text/plain": [
       "'histoir gil blas santillan'"
      ]
     },
     "execution_count": 4,
     "metadata": {},
     "output_type": "execute_result"
    }
   ],
   "source": [
    "# Sanity check\n",
    "import random\n",
    "title_strings_norm[random.randint(1,len(title_strings_norm))]"
   ]
  },
  {
   "cell_type": "code",
   "execution_count": 41,
   "metadata": {},
   "outputs": [],
   "source": [
    "# Format data for ML algorithm\n",
    "\n",
    "vec = CountVectorizer()\n",
    "X = vec.fit_transform(title_strings_norm) # X is a dtm, of 3987 docs and 6343 words\n",
    "y = list(data[\"parisian_keyword\"]) "
   ]
  },
  {
   "cell_type": "code",
   "execution_count": 6,
   "metadata": {},
   "outputs": [
    {
     "name": "stdout",
     "output_type": "stream",
     "text": [
      "X has 3838 rows and 6192 columns.\n",
      "y has 3838 rows.\n"
     ]
    }
   ],
   "source": [
    "print(\"X has %d rows and %d columns.\" % X.shape)\n",
    "print(\"y has %d rows.\" % len(y))"
   ]
  },
  {
   "cell_type": "code",
   "execution_count": 10,
   "metadata": {},
   "outputs": [],
   "source": [
    "# Have a go with some simple classifiers\n",
    "\n",
    "# Split into training and test data\n",
    "from sklearn.model_selection import train_test_split\n",
    "X_train, X_test, y_train, y_test = train_test_split(X, y, test_size = 0.25, random_state=11)\n",
    "\n",
    "# Use sklearn's logistic regression model\n",
    "from sklearn.multiclass import OneVsRestClassifier\n",
    "from sklearn.linear_model import LogisticRegression\n",
    "lg = OneVsRestClassifier(estimator = LogisticRegression(max_iter = 100), n_jobs = 2) # initialise classifier\n",
    "lg.fit(X_train, y_train) # fit to the training data\n",
    "predictions = lg.predict(X_test) # compute predictions for the test data"
   ]
  },
  {
   "cell_type": "code",
   "execution_count": 11,
   "metadata": {},
   "outputs": [
    {
     "name": "stdout",
     "output_type": "stream",
     "text": [
      "\n",
      " \n",
      "The model classified 698 of the 960 examples correctly.\n",
      "Accuracy = 72.2%\n"
     ]
    },
    {
     "data": {
      "image/png": "[encoded data removed]",
      "text/plain": [
       "<Figure size 432x288 with 2 Axes>"
      ]
     },
     "metadata": {
      "needs_background": "light"
     },
     "output_type": "display_data"
    }
   ],
   "source": [
    "# Compute confusion matrix and accuracy (you need to execute the cell below to see the plot)\n",
    "correct = predictions == y_test\n",
    "accuracy = correct.sum()/len(correct)*100\n",
    "print(\"\\n \\nThe model classified %d of the %d examples correctly.\" % (correct.sum(), len(correct)))\n",
    "print(\"Accuracy = %d.2%%\" % accuracy)\n",
    "\n",
    "from sklearn.metrics import confusion_matrix\n",
    "cm = confusion_matrix(y_test, predictions)\n",
    "plt.figure()\n",
    "plot_confusion_matrix(cm, classes=lg.classes_, normalize = True)\n",
    "plt.show()"
   ]
  },
  {
   "cell_type": "code",
   "execution_count": 8,
   "metadata": {},
   "outputs": [],
   "source": [
    "# A function for plotting the confusion matrix, copied from scikit-learn.org\n",
    "import itertools\n",
    "import matplotlib.pyplot as plt\n",
    "def plot_confusion_matrix(cm, classes,\n",
    "                          normalize=False,\n",
    "                          title='Confusion matrix',\n",
    "                          cmap=plt.cm.Blues):\n",
    "    \"\"\"\n",
    "    This function prints and plots the confusion matrix.\n",
    "    Normalization can be applied by setting `normalize=True`.\n",
    "    \"\"\"\n",
    "    if normalize:\n",
    "        cm = cm.astype('float') / cm.sum(axis=1)[:, np.newaxis]\n",
    "        # print(\"Normalized confusion matrix\")\n",
    "    # else:\n",
    "        # print('Confusion matrix, without normalization')\n",
    "\n",
    "    # print(cm)\n",
    "\n",
    "    plt.imshow(cm, interpolation='nearest', cmap=cmap)\n",
    "    plt.title(title)\n",
    "    plt.colorbar()\n",
    "    tick_marks = np.arange(len(classes))\n",
    "    plt.xticks(tick_marks, classes, rotation=45)\n",
    "    plt.yticks(tick_marks, classes)\n",
    "\n",
    "    fmt = '.2f' if normalize else 'd'\n",
    "    thresh = cm.max() / 2.\n",
    "    for i, j in itertools.product(range(cm.shape[0]), range(cm.shape[1])):\n",
    "        plt.text(j, i, format(cm[i, j], fmt),\n",
    "                 horizontalalignment=\"center\",\n",
    "                 color=\"white\" if cm[i, j] > thresh else \"black\")\n",
    "\n",
    "    plt.tight_layout()\n",
    "    plt.ylabel('True label')\n",
    "    plt.xlabel('Predicted label')"
   ]
  },
  {
   "cell_type": "markdown",
   "metadata": {},
   "source": [
    "This model is no good. After 1 iteration, it classfies the examples with 68% accuracy, and then after only two or three more iterations it converges on 70.2% and won't improve. We could compare it with a purely random model..."
   ]
  },
  {
   "cell_type": "code",
   "execution_count": 64,
   "metadata": {},
   "outputs": [
    {
     "name": "stdout",
     "output_type": "stream",
     "text": [
      "Randomly shuffling the data predicts the correct label with 27.2% accuracy.\n"
     ]
    }
   ],
   "source": [
    "rand_y = y.copy()\n",
    "np.random.shuffle(rand_y)\n",
    "rand_correct = np.array(rand_y) == np.array(y)\n",
    "rand_acc = 100*rand_correct.sum()/len(y)\n",
    "print(\"Randomly shuffling the data predicts the correct label with %d.2%% accuracy.\" % rand_acc)"
   ]
  },
  {
   "cell_type": "markdown",
   "metadata": {},
   "source": [
    "We could try to fix up the simple classifier. We could try an SVM. We could get into the nuts and bolts and try to generate more complex features. I think the best option will be to try a deep neural net, and spend the time tuning that."
   ]
  }
 ],
 "metadata": {
  "kernelspec": {
   "display_name": "Python 3",
   "language": "python",
   "name": "python3"
  },
  "language_info": {
   "codemirror_mode": {
    "name": "ipython",
    "version": 3
   },
   "file_extension": ".py",
   "mimetype": "text/x-python",
   "name": "python",
   "nbconvert_exporter": "python",
   "pygments_lexer": "ipython3",
   "version": "3.7.0"
  }
 },
 "nbformat": 4,
 "nbformat_minor": 2
}
