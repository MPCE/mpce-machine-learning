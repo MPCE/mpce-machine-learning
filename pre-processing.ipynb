{
 "cells": [
  {
   "cell_type": "markdown",
   "metadata": {},
   "source": [
    "#  Mapping Print, Charting Enlightenment\n",
    "\n",
    "##  Machine Learning Experiment 1: Classifying books by titles and other metadata\n",
    "\n",
    "Team: Rachel Hendery, Tomas Trescak, Katie McDonough, Michael Falk, Simon Burrows\n",
    "\n",
    "##  Module 1: pre-processing"
   ]
  },
  {
   "cell_type": "code",
   "execution_count": 2,
   "metadata": {},
   "outputs": [],
   "source": [
    "# Load libraries\n",
    "\n",
    "import pandas as pd # for importing and manipulating data\n",
    "from nltk.tokenize import word_tokenize # \n",
    "from from nltk.stem.snowball import SnowballStemmer\n",
    "from sklearn.feature_extraction.text import CountVectorizer # for creating term-document matrix"
   ]
  },
  {
   "cell_type": "code",
   "execution_count": 3,
   "metadata": {},
   "outputs": [
    {
     "data": {
      "text/html": [
       "<div>\n",
       "<style scoped>\n",
       "    .dataframe tbody tr th:only-of-type {\n",
       "        vertical-align: middle;\n",
       "    }\n",
       "\n",
       "    .dataframe tbody tr th {\n",
       "        vertical-align: top;\n",
       "    }\n",
       "\n",
       "    .dataframe thead th {\n",
       "        text-align: right;\n",
       "    }\n",
       "</style>\n",
       "<table border=\"1\" class=\"dataframe\">\n",
       "  <thead>\n",
       "    <tr style=\"text-align: right;\">\n",
       "      <th></th>\n",
       "      <th>full_book_title</th>\n",
       "      <th>stated_publication_places</th>\n",
       "      <th>number_of_volumes</th>\n",
       "      <th>parisian_keyword</th>\n",
       "    </tr>\n",
       "  </thead>\n",
       "  <tbody>\n",
       "    <tr>\n",
       "      <th>0</th>\n",
       "      <td>Abrégé de l'Histoire générale des voyages, con...</td>\n",
       "      <td>Paris</td>\n",
       "      <td>23</td>\n",
       "      <td>Histoire</td>\n",
       "    </tr>\n",
       "    <tr>\n",
       "      <th>1</th>\n",
       "      <td>Almanach des muses</td>\n",
       "      <td>n.pl.</td>\n",
       "      <td>1</td>\n",
       "      <td>Belles-Lettres</td>\n",
       "    </tr>\n",
       "    <tr>\n",
       "      <th>2</th>\n",
       "      <td>Art (l') de peindre sur l'émail</td>\n",
       "      <td>n.pl.</td>\n",
       "      <td>1</td>\n",
       "      <td>Science et Arts</td>\n",
       "    </tr>\n",
       "    <tr>\n",
       "      <th>3</th>\n",
       "      <td>Apparat royal, dictionnaire françois et latin,...</td>\n",
       "      <td>n.pl.</td>\n",
       "      <td>1</td>\n",
       "      <td>Belles-Lettres</td>\n",
       "    </tr>\n",
       "    <tr>\n",
       "      <th>4</th>\n",
       "      <td>Nouvelle (la) Académie des dames, ou histoire ...</td>\n",
       "      <td>n.pl.</td>\n",
       "      <td>1</td>\n",
       "      <td>Belles-Lettres</td>\n",
       "    </tr>\n",
       "  </tbody>\n",
       "</table>\n",
       "</div>"
      ],
      "text/plain": [
       "                                     full_book_title  \\\n",
       "0  Abrégé de l'Histoire générale des voyages, con...   \n",
       "1                                 Almanach des muses   \n",
       "2                    Art (l') de peindre sur l'émail   \n",
       "3  Apparat royal, dictionnaire françois et latin,...   \n",
       "4  Nouvelle (la) Académie des dames, ou histoire ...   \n",
       "\n",
       "  stated_publication_places  number_of_volumes parisian_keyword  \n",
       "0                     Paris                 23         Histoire  \n",
       "1                     n.pl.                  1   Belles-Lettres  \n",
       "2                     n.pl.                  1  Science et Arts  \n",
       "3                     n.pl.                  1   Belles-Lettres  \n",
       "4                     n.pl.                  1   Belles-Lettres  "
      ]
     },
     "execution_count": 3,
     "metadata": {},
     "output_type": "execute_result"
    }
   ],
   "source": [
    "# Import data\n",
    "\n",
    "data = pd.read_csv(\"c:/git/mpce-machine-learning/data/editions_trimmed.csv\")\n",
    "\n",
    "data.head()"
   ]
  },
  {
   "cell_type": "code",
   "execution_count": 4,
   "metadata": {},
   "outputs": [
    {
     "ename": "SyntaxError",
     "evalue": "invalid syntax (<ipython-input-4-d76ee2de2b56>, line 7)",
     "output_type": "error",
     "traceback": [
      "\u001b[1;36m  File \u001b[1;32m\"<ipython-input-4-d76ee2de2b56>\"\u001b[1;36m, line \u001b[1;32m7\u001b[0m\n\u001b[1;33m    stems =\u001b[0m\n\u001b[1;37m            ^\u001b[0m\n\u001b[1;31mSyntaxError\u001b[0m\u001b[1;31m:\u001b[0m invalid syntax\n"
     ]
    }
   ],
   "source": [
    "# Tokenise and normalise the title text\n",
    "\n",
    "title_words = [] # initialise list\n",
    "for title in data[\"full_book_title\"]: # loop over titles\n",
    "    title = title.lower() # to lower case\n",
    "    tokens = nltk.word_tokenize(title, language='french') # tokenise\n",
    "    stems = \n",
    "    title_words.append(tokens) # append to results list\n",
    "\n",
    "title_words[1:2]"
   ]
  },
  {
   "cell_type": "code",
   "execution_count": null,
   "metadata": {},
   "outputs": [],
   "source": [
    "# Reshape the title data into term-document matrix\n",
    "\n",
    "docs = data[\"full_book_title\"].tolist()\n",
    "vec = CountVectorizer\n",
    "X = vec.fit_transform(docs)"
   ]
  },
  {
   "cell_type": "code",
   "execution_count": null,
   "metadata": {},
   "outputs": [],
   "source": [
    "foo = title_words[2]\n",
    "\n"
   ]
  }
 ],
 "metadata": {
  "kernelspec": {
   "display_name": "Python 3",
   "language": "python",
   "name": "python3"
  },
  "language_info": {
   "codemirror_mode": {
    "name": "ipython",
    "version": 3
   },
   "file_extension": ".py",
   "mimetype": "text/x-python",
   "name": "python",
   "nbconvert_exporter": "python",
   "pygments_lexer": "ipython3",
   "version": "3.7.0"
  }
 },
 "nbformat": 4,
 "nbformat_minor": 2
}
