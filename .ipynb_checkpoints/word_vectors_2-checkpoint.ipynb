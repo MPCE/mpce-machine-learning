{
 "cells": [
  {
   "cell_type": "markdown",
   "metadata": {},
   "source": [
    "# Mapping Print, Charting Enlightenment\n",
    "\n",
    "## Machine Learning Experiment 1: Classifying books by titles and other metadata\n",
    "\n",
    "Team: Rachel Hendery, Tomas Trescak, Katie McDonough, Michael Falk, Simon Burrows\n",
    "\n",
    "## Notebook 4: Converting titles to dense matrices\n",
    "\n",
    "Author: Michael Falk\n",
    "\n",
    "In this notebook, we convert titles to their dense representation, as in [Notebook 2](word_vectors.ipynb). But this time with a difference: instead of taking the mean for each title, we will turn each title into a list of word vectors. Our new model, an LSTM, will be able to learn not only from what words are in the title, but also from their order.\n",
    "\n",
    "As before, we will use Facebook's pretrained FastText French model, available here: https://github.com/facebookresearch/fastText/blob/master/pretrained-vectors.md"
   ]
  },
  {
   "cell_type": "code",
   "execution_count": 212,
   "metadata": {},
   "outputs": [],
   "source": [
    "# Load necessary libraries\n",
    "from gensim.models import KeyedVectors\n",
    "import numpy as np\n",
    "import time\n",
    "import random\n",
    "import pandas as pd # library for manipulating data\n",
    "from nltk.tokenize import wordpunct_tokenize # tokeniser\n",
    "import re # regular expressions\n",
    "from num2words import num2words\n",
    "from matplotlib import pyplot"
   ]
  },
  {
   "cell_type": "code",
   "execution_count": 1,
   "metadata": {},
   "outputs": [
    {
     "name": "stdout",
     "output_type": "stream",
     "text": [
      "Word vector model imported. Import took 36.92 seconds.\n"
     ]
    }
   ],
   "source": [
    "# Load pre-trained word vectors\n",
    "file_path = \"fr_model/french_vectors.bin\"\n",
    "tic = time.process_time()\n",
    "word_vectors = KeyedVectors.load_word2vec_format(file_path, binary = True)\n",
    "toc = time.process_time()\n",
    "print(f\"Word vector model imported. Import took {toc - tic:.2f} seconds.\")"
   ]
  },
  {
   "cell_type": "code",
   "execution_count": 48,
   "metadata": {},
   "outputs": [
    {
     "name": "stdout",
     "output_type": "stream",
     "text": [
      "The model does have vectors for ordinary words like 'pluie'.\n",
      "The model doesn't have vectors for words with capital letters like 'France'.\n",
      "The model does have vectors for proper names like 'voltaire'.\n",
      "The model does have vectors for accented words like 'zéro'.\n",
      "The model doesn't have vectors for digits like '1'.\n",
      "The model does have vectors for numbers expressed in words like 'un'.\n",
      "But it doesn't have vectors for compound numbers like 'quatre-vignt'.\n",
      "The model doesn't have vectors for all puncutation marks like ';'.\n"
     ]
    }
   ],
   "source": [
    "# What words can the model provide a vector for?\n",
    "def does_doesnt(x):\n",
    "    if x == True:\n",
    "        return(\"does\")\n",
    "    else:\n",
    "        return(\"doesn't\")\n",
    "\n",
    "print(f\"The model {does_doesnt('pluie' in word_vectors.vocab)} have vectors for ordinary words like 'pluie'.\")\n",
    "print(f\"The model {does_doesnt('Gendarme' in word_vectors.vocab)} have vectors for words with capital letters like 'France'.\")\n",
    "print(f\"The model {does_doesnt('voltaire' in word_vectors.vocab)} have vectors for proper names like 'voltaire'.\")\n",
    "print(f\"The model {does_doesnt('zéro' in word_vectors.vocab)} have vectors for accented words like 'zéro'.\")\n",
    "print(f\"The model {does_doesnt('1' in word_vectors.vocab)} have vectors for digits like '1'.\")\n",
    "print(f\"The model {does_doesnt('un' in word_vectors.vocab)} have vectors for numbers expressed in words like 'un'.\")\n",
    "print(f\"But it {does_doesnt('quatre-vignt' in word_vectors.vocab)} have vectors for compound numbers like 'quatre-vignt'.\")\n",
    "print(f\"The model {does_doesnt(';' in word_vectors.vocab)} have vectors for all puncutation marks like ';'.\")"
   ]
  },
  {
   "cell_type": "markdown",
   "metadata": {},
   "source": [
    "We need to do some light preprocessing of the data to account for these omissions of the model."
   ]
  },
  {
   "cell_type": "code",
   "execution_count": 165,
   "metadata": {},
   "outputs": [],
   "source": [
    "# A helper function for preprocessing\n",
    "def conv_tok(string):\n",
    "    # Takes a string containing digits, converts them to strings and tokenises.\n",
    "    \n",
    "    # First, need to handle ordinals, which have an 'e' on the end of them in French.\n",
    "    if re.search('e|è', string): # if there is an 'e' or 'è' ...\n",
    "        string = re.sub('\\D', '', string) # ... remove it, and everything else that isn't a digit.\n",
    "        num = int(string) # convert the string to an integer ...\n",
    "        phrase = num2words(num, lang = 'fr', to = 'ordinal') # ... and then into a phrase\n",
    "    else: # if there is no 'e' ...\n",
    "        string = re.sub('\\D', '', string) # ... delete any letters anyway ...\n",
    "        num = int(string)\n",
    "        phrase = num2words(num, lang = 'fr') # ... and don't treat it as an ordinal\n",
    "    \n",
    "    tokens = wordpunct_tokenize(phrase)\n",
    "    reg1 = re.compile(\"\\w\") # only word characters\n",
    "    words = [i for i in tokens if reg1.search(i)] # drop puncuation (e.g. hyphens)\n",
    "    return(words)"
   ]
  },
  {
   "cell_type": "code",
   "execution_count": 68,
   "metadata": {},
   "outputs": [
    {
     "name": "stdout",
     "output_type": "stream",
     "text": [
      "The data comprises 3838 books described by 4 fields.\n"
     ]
    }
   ],
   "source": [
    "# Import the title data\n",
    "data_path = \"data/editions_trimmed.csv\" # locate data file\n",
    "\n",
    "data = pd.read_csv(data_path).dropna() # read in title data\n",
    "\n",
    "print(f\"The data comprises {data.shape[0]} books described by {data.shape[1]} fields.\")"
   ]
  },
  {
   "cell_type": "code",
   "execution_count": 167,
   "metadata": {},
   "outputs": [],
   "source": [
    "title_strings = [] # initialise list of word vectors\n",
    "\n",
    "letters = re.compile(\"\\w\") # regex for finding tokens with letters\n",
    "digits = re.compile(\"\\d\") # regex for finding tokens with numbers\n",
    "\n",
    "for i, title in enumerate(data[\"full_book_title\"]): # loop over titles\n",
    "    title = title.lower() # make all letters lower case\n",
    "    tokens = wordpunct_tokenize(title) # tokenise\n",
    "    \n",
    "    # Dealing with numbers:\n",
    "    for counter, token in enumerate(tokens): # loop over tokens in this title\n",
    "        if digits.search(token): # if a numeral is found ...\n",
    "            new_list = conv_tok(token) # ... convert it to a list of verbalised numbers\n",
    "            tokens.remove(token) # remove the discovered digits from the token list for this title\n",
    "            new_list.reverse() # reverse the list\n",
    "            for num in new_list: # loop through verbalised numbers backwards ...\n",
    "                tokens.insert(counter, num) # ... and add the new strings to the list\n",
    "    \n",
    "    # Final cleanup:\n",
    "    filtered = [i for i in tokens if letters.search(i)] # only keep letters\n",
    "    filtered = [i for i in filtered if len(i) > 2] # strip out stopwords TODO: get proper sw list\n",
    "    \n",
    "    # Complete loop:\n",
    "    title_strings.append(filtered) # append to results list"
   ]
  },
  {
   "cell_type": "code",
   "execution_count": 203,
   "metadata": {},
   "outputs": [
    {
     "data": {
      "text/plain": [
       "['contemplation', 'nature']"
      ]
     },
     "execution_count": 203,
     "metadata": {},
     "output_type": "execute_result"
    }
   ],
   "source": [
    "# Sanity check: how does a random title look?\n",
    "title_strings[random.randint(0, len(title_strings))]"
   ]
  },
  {
   "cell_type": "code",
   "execution_count": 222,
   "metadata": {},
   "outputs": [
    {
     "name": "stdout",
     "output_type": "stream",
     "text": [
      "The longest title is 59 words long\n",
      "There are 194 titles with more than 25 words, out of 3838.\n"
     ]
    },
    {
     "data": {
      "text/plain": [
       "(array([1864., 1040.,  475.,  228.,  101.,   65.,   32.,   14.,   11.,\n",
       "           8.]),\n",
       " array([ 1. ,  6.8, 12.6, 18.4, 24.2, 30. , 35.8, 41.6, 47.4, 53.2, 59. ]),\n",
       " <a list of 10 Patch objects>)"
      ]
     },
     "execution_count": 222,
     "metadata": {},
     "output_type": "execute_result"
    },
    {
     "data": {
      "image/png": "[encoded data removed]",
      "text/plain": [
       "<Figure size 432x288 with 1 Axes>"
      ]
     },
     "metadata": {
      "needs_background": "light"
     },
     "output_type": "display_data"
    }
   ],
   "source": [
    "# Now for something more important: how long is each title?\n",
    "lengths = np.array([len(i) for i in title_strings])\n",
    "print(f\"The longest title is {lengths.max()} words long\")\n",
    "thresh = 25\n",
    "print(f\"There are {lengths[np.where(lengths > thresh)].shape[0]} titles with more than {thresh} words, out of {lengths.shape[0]}.\")\n",
    "pyplot.hist(lengths)"
   ]
  }
 ],
 "metadata": {
  "kernelspec": {
   "display_name": "Python 3",
   "language": "python",
   "name": "python3"
  },
  "language_info": {
   "codemirror_mode": {
    "name": "ipython",
    "version": 3
   },
   "file_extension": ".py",
   "mimetype": "text/x-python",
   "name": "python",
   "nbconvert_exporter": "python",
   "pygments_lexer": "ipython3",
   "version": "3.7.0"
  }
 },
 "nbformat": 4,
 "nbformat_minor": 2
}
