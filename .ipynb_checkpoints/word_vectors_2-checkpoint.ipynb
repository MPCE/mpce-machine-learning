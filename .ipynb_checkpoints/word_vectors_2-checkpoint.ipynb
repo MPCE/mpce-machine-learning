{
 "cells": [
  {
   "cell_type": "markdown",
   "metadata": {},
   "source": [
    "# Mapping Print, Charting Enlightenment\n",
    "\n",
    "## Machine Learning Experiment 1: Classifying books by titles and other metadata\n",
    "\n",
    "Team: Rachel Hendery, Tomas Trescak, Katie McDonough, Michael Falk, Simon Burrows\n",
    "\n",
    "## Notebook 4: Converting titles to dense matrices\n",
    "\n",
    "Author: Michael Falk\n",
    "\n",
    "In this notebook, we convert titles to their dense representation, as in [Notebook 2](word_vectors.ipynb). But this time with a difference: instead of taking the mean for each title, we will turn each title into a list of word vectors. Our new model, an LSTM, will be able to learn not only from what words are in the title, but also from their order.\n",
    "\n",
    "As before, we will use Facebook's pretrained FastText French model, available here: https://github.com/facebookresearch/fastText/blob/master/pretrained-vectors.md"
   ]
  },
  {
   "cell_type": "code",
   "execution_count": 1,
   "metadata": {},
   "outputs": [
    {
     "name": "stderr",
     "output_type": "stream",
     "text": [
      "C:\\Users\\30052372\\AppData\\Local\\Programs\\Python\\Python37\\lib\\site-packages\\gensim\\utils.py:1209: UserWarning: detected Windows; aliasing chunkize to chunkize_serial\n",
      "  warnings.warn(\"detected Windows; aliasing chunkize to chunkize_serial\")\n"
     ]
    }
   ],
   "source": [
    "# Load necessary libraries\n",
    "from gensim.models import KeyedVectors\n",
    "import numpy as np\n",
    "import time\n",
    "import random\n",
    "import pandas as pd # library for manipulating data\n",
    "from nltk.tokenize import wordpunct_tokenize # tokeniser\n",
    "import re # regular expressions\n",
    "from num2words import num2words\n",
    "from matplotlib import pyplot\n",
    "import pickle"
   ]
  },
  {
   "cell_type": "code",
   "execution_count": 6,
   "metadata": {},
   "outputs": [
    {
     "name": "stdout",
     "output_type": "stream",
     "text": [
      "Word vector model imported. Import took 15.32 seconds.\n"
     ]
    }
   ],
   "source": [
    "# Load pre-trained word vectors\n",
    "file_path = \"fr_model/french_vectors.bin\"\n",
    "tic = time.process_time()\n",
    "word_vectors = KeyedVectors.load_word2vec_format(file_path, binary = True)\n",
    "toc = time.process_time()\n",
    "print(f\"Word vector model imported. Import took {toc - tic:.2f} seconds.\")"
   ]
  },
  {
   "cell_type": "code",
   "execution_count": 50,
   "metadata": {},
   "outputs": [
    {
     "name": "stdout",
     "output_type": "stream",
     "text": [
      "The model does have vectors for ordinary words like 'pluie'.\n",
      "The model doesn't have vectors for proper names with capital letters like 'France',\n",
      "but it does have vectors for proper names like 'voltaire'.\n",
      "The model doesn't have vectors for digits like '1',\n",
      "but it does have vectors for accented words like 'zéro';\n",
      "and although it does have vectors for verbalised numbers like 'un',\n",
      "it doesn't have vectors for compound numbers like 'quatre-vignt'.\n",
      "Unfortunately, the model doesn't have vectors for puncutation marks like ';'.\n",
      "Weirdly, it does have vectors for some non-French words like 'gebete'.\n"
     ]
    }
   ],
   "source": [
    "# What words can the model provide a vector for?\n",
    "def does_doesnt(x):\n",
    "    if x == True:\n",
    "        return(\"does\")\n",
    "    else:\n",
    "        return(\"doesn't\")\n",
    "\n",
    "print(f\"The model {does_doesnt('pluie' in word_vectors.vocab)} have vectors for ordinary words like 'pluie'.\")\n",
    "print(f\"The model {does_doesnt('Gendarme' in word_vectors.vocab)} have vectors for proper names with capital letters like 'France',\")\n",
    "print(f\"but it {does_doesnt('voltaire' in word_vectors.vocab)} have vectors for proper names like 'voltaire'.\")\n",
    "print(f\"The model {does_doesnt('1' in word_vectors.vocab)} have vectors for digits like '1',\")\n",
    "print(f\"but it {does_doesnt('zéro' in word_vectors.vocab)} have vectors for accented words like 'zéro';\")\n",
    "print(f\"and although it {does_doesnt('un' in word_vectors.vocab)} have vectors for verbalised numbers like 'un',\")\n",
    "print(f\"it {does_doesnt('quatre-vignt' in word_vectors.vocab)} have vectors for compound numbers like 'quatre-vignt'.\")\n",
    "print(f\"Unfortunately, the model {does_doesnt(';' in word_vectors.vocab)} have vectors for puncutation marks like ';'.\")\n",
    "print(f\"Weirdly, it {does_doesnt('gebete' in word_vectors.vocab)} have vectors for some non-French words like 'gebete'.\")"
   ]
  },
  {
   "cell_type": "markdown",
   "metadata": {},
   "source": [
    "We need to do some light preprocessing of the data to account for these omissions of the model."
   ]
  },
  {
   "cell_type": "code",
   "execution_count": 5,
   "metadata": {},
   "outputs": [],
   "source": [
    "# A helper function for preprocessing\n",
    "def conv_tok(string):\n",
    "    # Takes a string containing digits, converts them to strings and tokenises.\n",
    "    \n",
    "    # First, need to handle ordinals, which have an 'e' on the end of them in French.\n",
    "    if re.search('e|è', string): # if there is an 'e' or 'è' ...\n",
    "        string = re.sub('\\D', '', string) # ... remove it, and everything else that isn't a digit.\n",
    "        num = int(string) # convert the string to an integer ...\n",
    "        phrase = num2words(num, lang = 'fr', to = 'ordinal') # ... and then into a phrase\n",
    "    else: # if there is no 'e' ...\n",
    "        string = re.sub('\\D', '', string) # ... delete any letters anyway ...\n",
    "        num = int(string)\n",
    "        phrase = num2words(num, lang = 'fr') # ... and don't treat it as an ordinal\n",
    "    \n",
    "    tokens = wordpunct_tokenize(phrase)\n",
    "    reg1 = re.compile(\"\\w\") # only word characters\n",
    "    words = [i for i in tokens if reg1.search(i)] # drop puncuation (e.g. hyphens)\n",
    "    return(words)"
   ]
  },
  {
   "cell_type": "code",
   "execution_count": 20,
   "metadata": {},
   "outputs": [
    {
     "name": "stdout",
     "output_type": "stream",
     "text": [
      "The data comprises 3838 books described by 3 fields.\n"
     ]
    }
   ],
   "source": [
    "# Import the title data\n",
    "data_path = \"data/editions_all_cols.csv\" # locate data file\n",
    "data = (pd.read_csv(data_path)[['super_book_code', 'full_book_title', 'high_level_keyword']]\n",
    "        .dropna()\n",
    "        .to_dict(orient = 'records')\n",
    "       )\n",
    "\n",
    "print(f\"The data comprises {len(data)} books described by {len(data[0])} fields.\")"
   ]
  },
  {
   "cell_type": "code",
   "execution_count": 21,
   "metadata": {},
   "outputs": [
    {
     "data": {
      "text/plain": [
       "{'super_book_code': 'spbk0002530',\n",
       " 'full_book_title': \"Abrégé de l'Histoire générale des voyages, contenant ce qu'il y a de plus remarquable, de plus utile et de mieux avéré dans les pays où les voyageurs ont pénétré; les moeurs des habitans, la religion, les usages, arts et sciences, commerce, manufactures... Par M. de La Harpe\",\n",
       " 'high_level_keyword': 'pk036'}"
      ]
     },
     "execution_count": 21,
     "metadata": {},
     "output_type": "execute_result"
    }
   ],
   "source": [
    "data[0]"
   ]
  },
  {
   "cell_type": "code",
   "execution_count": 23,
   "metadata": {},
   "outputs": [],
   "source": [
    "tokenised_data = {} # initialise dict of processed titles\n",
    "\n",
    "letters = re.compile(\"\\w\") # regex for finding tokens with letters\n",
    "digits = re.compile(\"\\d\") # regex for finding tokens with numbers\n",
    "\n",
    "for work in data: # loop over works\n",
    "    title = work['full_book_title'].lower() # grab title, set to lower case\n",
    "    tokens = wordpunct_tokenize(title) # tokenise\n",
    "    \n",
    "    # Dealing with numbers:\n",
    "    for counter, token in enumerate(tokens): # loop over tokens in this title\n",
    "        if digits.search(token): # if a numeral is found ...\n",
    "            new_list = conv_tok(token) # ... convert it to a list of verbalised numbers\n",
    "            tokens.remove(token) # remove the discovered digits from the token list for this title\n",
    "            new_list.reverse() # reverse the list\n",
    "            for num in new_list: # loop through verbalised numbers backwards ...\n",
    "                tokens.insert(counter, num) # ... and add the new strings to the list\n",
    "    \n",
    "    # Final cleanup:\n",
    "    x = [i for i in tokens if letters.search(i)] # only keep letters\n",
    "    sbc = work['super_book_code']\n",
    "    y = work['high_level_keyword']\n",
    "    \n",
    "    # Complete loop:\n",
    "    tokenised_data[sbc] = {'tokens':x, 'category':y}"
   ]
  },
  {
   "cell_type": "code",
   "execution_count": 42,
   "metadata": {},
   "outputs": [
    {
     "data": {
      "text/plain": [
       "('spbk0004481',\n",
       " {'tokens': ['journal',\n",
       "   'des',\n",
       "   'révolutions',\n",
       "   'de',\n",
       "   'l',\n",
       "   'europe',\n",
       "   'en',\n",
       "   'mille',\n",
       "   'sept',\n",
       "   'cent',\n",
       "   'quatre',\n",
       "   'vingt',\n",
       "   'neuf',\n",
       "   'et',\n",
       "   'mille',\n",
       "   'sept',\n",
       "   'cent',\n",
       "   'quatre',\n",
       "   'vingt',\n",
       "   'dix'],\n",
       "  'category': 'pk036'})"
      ]
     },
     "execution_count": 42,
     "metadata": {},
     "output_type": "execute_result"
    }
   ],
   "source": [
    "# Sanity check: how does a random title look?\n",
    "random.choice(list(tokenised_data.items()))"
   ]
  },
  {
   "cell_type": "markdown",
   "metadata": {},
   "source": [
    "Now we need to find word vectors for all the words in all the titles. This will create a megalist that we can pickle and pass to the colab notebook."
   ]
  },
  {
   "cell_type": "code",
   "execution_count": 48,
   "metadata": {},
   "outputs": [],
   "source": [
    "for sbc, work in tokenised_data.items(): # loop over superbooks\n",
    "    vectors = [] # initialise vector list\n",
    "    for token in work['tokens']: # loop over tokens\n",
    "        if token in word_vectors.vocab: # if the word is in the vocab ...\n",
    "            vectors.append(word_vectors[token]) # ... add its vector to the list\n",
    "    tokenised_data[sbc]['vectors'] = vectors"
   ]
  },
  {
   "cell_type": "code",
   "execution_count": 51,
   "metadata": {},
   "outputs": [
    {
     "data": {
      "text/plain": [
       "('spbk0004741',\n",
       " {'tokens': ['chef', 'd', 'oeuvres', 'de', 'campistron'],\n",
       "  'category': 'pk015',\n",
       "  'vectors': [array([ 0.1764   ,  0.24471  ,  0.035807 ,  0.35914  ,  0.13347  ,\n",
       "           0.047678 ,  0.013992 , -0.2008   ,  0.082924 , -0.091449 ,\n",
       "          -0.4781   ,  0.26867  , -0.53192  , -0.012573 , -0.2702   ,\n",
       "           0.097673 ,  0.046214 , -0.017036 ,  0.13442  , -0.1804   ,\n",
       "           0.079345 ,  0.11115  ,  0.047981 ,  0.34651  , -0.17154  ,\n",
       "          -0.23658  , -0.2503   ,  0.31904  ,  0.079687 , -0.023041 ,\n",
       "           0.59241  ,  0.43261  ,  0.29167  , -0.29694  , -0.3379   ,\n",
       "          -0.33723  , -0.30892  , -0.078168 ,  0.25113  ,  0.059925 ,\n",
       "          -0.18462  , -0.01792  , -0.1607   , -0.11721  , -0.15443  ,\n",
       "           0.16304  ,  0.15865  , -0.08591  , -0.020763 ,  0.23479  ,\n",
       "          -0.10637  ,  0.16791  ,  0.17166  , -0.46542  ,  0.13239  ,\n",
       "           0.36066  , -0.43122  ,  0.18258  ,  0.36521  , -0.22099  ,\n",
       "           0.15209  ,  0.15871  ,  0.11358  , -0.24579  ,  0.074398 ,\n",
       "           0.31445  ,  0.23722  ,  0.082431 , -0.22356  , -0.11757  ,\n",
       "           0.21131  ,  0.14028  , -0.51902  ,  0.39341  , -0.22512  ,\n",
       "           0.26894  , -0.050457 , -0.26072  , -0.22291  , -0.24954  ,\n",
       "          -0.29911  ,  0.12847  , -0.045377 , -0.18263  , -0.13981  ,\n",
       "           0.57509  , -0.64307  ,  0.52371  ,  0.038343 , -0.50011  ,\n",
       "          -0.54207  , -0.045276 , -0.32436  ,  0.24478  , -0.04598  ,\n",
       "          -0.056987 , -0.17662  ,  0.26972  , -0.064017 , -0.1682   ,\n",
       "           0.14676  , -0.10931  , -0.39304  ,  0.30908  , -0.4486   ,\n",
       "          -0.068744 ,  0.1205   , -0.21337  ,  0.32756  , -0.36288  ,\n",
       "          -0.03907  , -0.012674 , -0.39447  , -0.024995 , -0.092131 ,\n",
       "           0.11041  ,  0.077749 , -0.049337 ,  0.36574  ,  0.39059  ,\n",
       "          -0.1453   , -0.17681  , -0.19759  , -0.15039  , -0.24018  ,\n",
       "          -0.15698  ,  0.14043  , -0.27378  , -0.050871 ,  0.44681  ,\n",
       "           0.0079893,  0.13865  ,  0.29187  , -0.024762 ,  0.29007  ,\n",
       "          -0.14678  , -0.32868  ,  0.33647  , -0.10481  , -0.05865  ,\n",
       "          -0.32188  , -0.16783  ,  0.37113  , -0.12394  ,  0.1426   ,\n",
       "          -0.54278  , -0.18991  , -0.25585  ,  0.42338  ,  0.098332 ,\n",
       "           0.28422  ,  0.010548 , -0.013451 ,  0.0049605,  0.53104  ,\n",
       "           0.18618  ,  0.11533  ,  0.40799  ,  0.034547 ,  0.23323  ,\n",
       "          -0.26626  ,  0.50754  ,  0.083966 , -0.083066 ,  0.27413  ,\n",
       "          -0.19191  ,  0.068435 , -0.38724  , -0.009584 ,  0.030632 ,\n",
       "           0.14251  , -0.412    ,  0.1436   , -0.21248  ,  0.17708  ,\n",
       "          -0.30779  , -0.2312   , -0.078617 ,  0.22171  , -0.16085  ,\n",
       "          -0.19872  , -0.29051  ,  0.28272  ,  0.0087852,  0.38399  ,\n",
       "          -0.16328  , -0.40135  , -0.093929 ,  0.054044 , -0.036218 ,\n",
       "           0.12168  , -0.2438   ,  0.37243  , -0.1933   , -0.46928  ,\n",
       "          -0.2326   ,  0.12307  ,  0.13681  ,  0.31716  ,  0.26086  ,\n",
       "          -0.005447 ,  0.023335 ,  0.13654  ,  0.16559  , -0.035615 ,\n",
       "           0.37113  ,  0.074709 , -0.21448  ,  0.22597  , -0.58316  ,\n",
       "          -0.35596  ,  0.21701  ,  0.29736  ,  0.18656  ,  0.29973  ,\n",
       "           0.042882 ,  0.24904  , -0.29544  ,  0.14685  , -0.0042389,\n",
       "          -0.091644 , -0.29971  ,  0.084764 ,  0.17472  ,  0.32817  ,\n",
       "           0.20985  ,  0.013201 , -0.10913  ,  0.12449  ,  0.040049 ,\n",
       "          -0.38092  ,  0.05164  ,  0.54678  , -0.35672  , -0.048297 ,\n",
       "           0.10619  ,  0.2379   , -0.44495  ,  0.080352 , -0.21951  ,\n",
       "          -0.33915  , -0.029314 , -0.53085  ,  0.27798  ,  0.14169  ,\n",
       "           0.30128  ,  0.52195  , -0.36793  , -0.17959  ,  0.06951  ,\n",
       "           0.16138  ,  0.14271  , -0.24802  , -0.020468 , -0.20828  ,\n",
       "          -0.13596  ,  0.26396  , -0.32505  , -0.1131   , -0.10151  ,\n",
       "           0.093056 , -0.02106  ,  0.19272  , -0.40482  , -0.35495  ,\n",
       "          -0.043677 ,  0.18361  , -0.12316  ,  0.45499  ,  0.024953 ,\n",
       "           0.19786  , -0.27276  , -0.19806  ,  0.18978  , -0.4797   ,\n",
       "           0.060757 ,  0.10218  , -0.23396  ,  0.032488 ,  0.16014  ,\n",
       "           0.30674  ,  0.088291 , -0.038763 ,  0.041805 , -0.25934  ,\n",
       "           0.61603  ,  0.18828  ,  0.47153  , -0.17882  , -0.27284  ,\n",
       "          -0.23717  ,  0.013351 ,  0.31106  ,  0.067749 , -0.34909  ,\n",
       "          -0.0078317, -0.38005  , -0.046305 ,  0.12693  ,  0.27453  ],\n",
       "         dtype=float32),\n",
       "   array([-0.094904 , -0.035767 , -0.25911  ,  0.22044  ,  0.0013971,\n",
       "          -0.063101 , -0.085498 , -0.15576  ,  0.2126   ,  0.063869 ,\n",
       "          -0.087146 ,  0.12297  , -0.17699  ,  0.19406  , -0.11019  ,\n",
       "           0.071962 ,  0.20326  ,  0.0038136, -0.20004  , -0.20289  ,\n",
       "           0.28968  , -0.35599  , -0.052514 , -0.12385  , -0.18936  ,\n",
       "           0.071048 ,  0.27189  ,  0.10716  , -0.032995 , -0.16786  ,\n",
       "           0.19566  ,  0.0045023,  0.21532  , -0.12593  ,  0.31327  ,\n",
       "           0.066995 , -0.07673  ,  0.037432 , -0.1674   ,  0.015136 ,\n",
       "          -0.036376 , -0.2009   , -0.066212 , -0.071345 , -0.066957 ,\n",
       "          -0.21509  ,  0.02728  ,  0.33159  ,  0.093828 ,  0.11374  ,\n",
       "           0.11522  , -0.1698   , -0.12626  ,  0.058037 ,  0.087358 ,\n",
       "          -0.14988  , -0.15971  , -0.042057 ,  0.1127   , -0.28126  ,\n",
       "          -0.31761  ,  0.18327  , -0.1135   ,  0.029627 ,  0.086789 ,\n",
       "           0.025078 ,  0.20615  ,  0.030968 ,  0.14791  , -0.21859  ,\n",
       "           0.074606 ,  0.19398  , -0.05483  ,  0.51161  , -0.35787  ,\n",
       "           0.11068  ,  0.016985 ,  0.1194   , -0.013778 ,  0.19488  ,\n",
       "          -0.1151   ,  0.063175 ,  0.30448  ,  0.031266 , -0.020334 ,\n",
       "           0.048176 , -0.14137  ,  0.21973  , -0.017275 , -0.36957  ,\n",
       "          -0.14118  , -0.0010476,  0.0018525,  0.097334 ,  0.14406  ,\n",
       "          -0.096072 , -0.18185  , -0.13168  , -0.067631 ,  0.11505  ,\n",
       "          -0.086727 , -0.011331 , -0.18342  , -0.081025 ,  0.075142 ,\n",
       "           0.032927 ,  0.022669 , -0.15834  ,  0.29888  ,  0.060671 ,\n",
       "           0.045232 , -0.073343 , -0.095581 , -0.28425  ,  0.011154 ,\n",
       "          -0.012871 ,  0.15605  ,  0.081162 ,  0.12025  ,  0.018469 ,\n",
       "           0.057157 , -0.087303 , -0.22335  , -0.050956 , -0.029616 ,\n",
       "           0.048629 , -0.10793  , -0.072722 , -0.12245  , -0.079032 ,\n",
       "          -0.16649  ,  0.0047721, -0.19901  ,  0.056119 ,  0.017571 ,\n",
       "           0.14205  ,  0.05346  , -0.16335  ,  0.19196  , -0.10513  ,\n",
       "          -0.063794 ,  0.10167  , -0.16838  , -0.038536 ,  0.0069765,\n",
       "          -0.16722  , -0.089201 , -0.064293 ,  0.19113  , -0.14379  ,\n",
       "          -0.033597 , -0.23523  , -0.10316  ,  0.097241 ,  0.051467 ,\n",
       "           0.096112 ,  0.069948 ,  0.24782  , -0.15151  ,  0.12395  ,\n",
       "          -0.18086  , -0.21358  ,  0.046192 ,  0.050575 , -0.17339  ,\n",
       "           0.14104  , -0.15435  ,  0.029118 , -0.16415  ,  0.13865  ,\n",
       "          -0.091024 ,  0.13056  ,  0.30667  ,  0.21413  ,  0.066169 ,\n",
       "          -0.053909 ,  0.15007  , -0.028652 , -0.15361  , -0.10908  ,\n",
       "          -0.062868 , -0.19872  , -0.013726 ,  0.078688 ,  0.38193  ,\n",
       "           0.11498  ,  0.26066  ,  0.16231  ,  0.0074659, -0.13442  ,\n",
       "          -0.029278 , -0.24676  ,  0.066215 ,  0.0018995,  0.077711 ,\n",
       "          -0.14969  ,  0.19945  ,  0.091696 , -0.066678 ,  0.090521 ,\n",
       "           0.32118  ,  0.084049 ,  0.098567 ,  0.11078  ,  0.0054753,\n",
       "          -0.36517  , -0.14359  ,  0.13969  ,  0.042608 , -0.2922   ,\n",
       "           0.12941  ,  0.098815 ,  0.14258  ,  0.29938  , -0.19567  ,\n",
       "           0.11899  , -0.29167  , -0.11448  ,  0.11831  , -0.09658  ,\n",
       "          -0.23339  , -0.11601  ,  0.037896 ,  0.1995   ,  0.24544  ,\n",
       "          -0.14053  , -0.16812  ,  0.055576 , -0.047802 ,  0.17844  ,\n",
       "          -0.018878 ,  0.11253  ,  0.33856  , -0.079055 ,  0.050921 ,\n",
       "          -0.092942 ,  0.022815 , -0.11648  ,  0.074045 ,  0.043596 ,\n",
       "          -0.12363  , -0.0079894, -0.0068965,  0.23821  ,  0.090845 ,\n",
       "          -0.10763  , -0.3      , -0.11977  ,  0.11923  ,  0.094322 ,\n",
       "           0.026475 ,  0.32713  ,  0.34298  , -0.19806  ,  0.080481 ,\n",
       "          -0.12753  , -0.088561 , -0.15426  ,  0.080544 , -0.12165  ,\n",
       "           0.062835 , -0.24992  ,  0.012673 , -0.28575  ,  0.13234  ,\n",
       "          -0.12622  , -0.0017431, -0.13188  , -0.083659 , -0.11296  ,\n",
       "          -0.052625 ,  0.26962  ,  0.38738  ,  0.030302 ,  0.087769 ,\n",
       "          -0.0060666,  0.18757  , -0.15339  , -0.017978 , -0.047556 ,\n",
       "          -0.087024 ,  0.283    , -0.059623 ,  0.14312  , -0.031597 ,\n",
       "           0.10744  ,  0.13636  ,  0.29859  ,  0.083689 , -0.30083  ,\n",
       "          -0.22784  ,  0.25604  ,  0.21378  ,  0.16298  , -0.21061  ,\n",
       "           0.23545  , -0.11431  ,  0.20113  , -0.207    ,  0.029442 ],\n",
       "         dtype=float32),\n",
       "   array([-0.27877  , -0.2432   ,  0.010102 , -0.059644 ,  0.12697  ,\n",
       "           0.58837  , -0.15451  , -0.12249  , -0.0036948,  0.16928  ,\n",
       "           0.0015022,  0.12634  , -0.52226  ,  0.35132  ,  0.14891  ,\n",
       "          -0.51555  ,  0.46145  , -0.28714  ,  0.246    , -0.12975  ,\n",
       "           0.62931  , -0.26394  , -0.0071005,  0.005353 ,  0.0063527,\n",
       "           0.20081  ,  0.34495  ,  0.16916  ,  0.016328 ,  0.38632  ,\n",
       "           0.58376  , -0.28979  ,  0.23238  ,  0.35617  ,  0.054607 ,\n",
       "          -0.12985  ,  0.66805  , -0.11323  ,  0.46937  , -0.63813  ,\n",
       "           0.47661  , -0.25143  , -0.11994  , -0.35811  ,  0.092208 ,\n",
       "          -0.1042   , -0.19402  , -0.035646 , -0.49137  ,  0.37934  ,\n",
       "          -0.45134  , -0.36196  , -0.27323  ,  0.20456  ,  0.22682  ,\n",
       "          -0.013379 , -0.10734  ,  0.38796  , -0.13426  , -0.010483 ,\n",
       "          -0.17099  , -0.26865  ,  0.12562  ,  0.19199  ,  0.34805  ,\n",
       "           0.29858  ,  0.22026  , -0.032093 ,  0.052237 ,  0.071342 ,\n",
       "           0.15336  , -0.17491  ,  0.097912 , -0.030335 , -0.25814  ,\n",
       "           0.391    ,  0.0087872,  0.60129  , -0.11801  , -0.052525 ,\n",
       "           0.16501  ,  0.28466  ,  0.38136  , -0.18657  , -0.19912  ,\n",
       "           0.20234  ,  0.16644  ,  0.18465  ,  0.13573  , -0.13923  ,\n",
       "           0.15844  , -0.25699  ,  0.11955  , -0.56917  , -0.18111  ,\n",
       "          -0.4563   ,  0.13668  ,  0.34621  , -0.17034  , -0.27779  ,\n",
       "           0.29806  , -0.18243  ,  0.23707  ,  0.034168 ,  0.13866  ,\n",
       "          -0.099352 , -0.14525  , -0.36252  ,  0.023644 , -0.13746  ,\n",
       "          -0.68969  ,  0.093993 , -0.487    ,  0.39373  ,  0.11898  ,\n",
       "          -0.51647  ,  0.26413  ,  0.066519 , -0.19818  ,  0.33208  ,\n",
       "           0.41366  ,  0.41398  , -0.27174  , -0.084771 ,  0.22547  ,\n",
       "           0.028566 ,  0.24328  ,  0.16379  , -0.19844  ,  0.20926  ,\n",
       "          -0.22615  , -0.063217 ,  0.21591  ,  0.20745  ,  0.68366  ,\n",
       "          -0.16841  , -0.31235  ,  0.46039  ,  0.10193  ,  0.12778  ,\n",
       "          -0.074936 ,  0.35551  , -0.12903  , -0.013087 ,  0.23906  ,\n",
       "          -0.15173  , -0.18095  ,  0.19506  , -0.039322 , -0.23284  ,\n",
       "           0.26804  , -0.13731  , -0.21286  ,  0.12223  ,  0.34509  ,\n",
       "          -0.3122   ,  0.38919  ,  0.68563  , -0.013057 ,  0.050455 ,\n",
       "           0.20535  , -0.33338  , -0.33561  ,  0.23058  , -0.46244  ,\n",
       "           0.24924  , -0.042662 , -0.13629  ,  0.25579  ,  0.029381 ,\n",
       "           0.27105  ,  0.19531  ,  0.31759  ,  0.27275  ,  0.069438 ,\n",
       "          -0.39391  , -0.077432 , -0.032551 ,  0.48204  ,  0.13766  ,\n",
       "           0.1043   , -0.1954   , -0.14886  , -0.20135  ,  0.58128  ,\n",
       "           0.023486 , -0.59066  , -0.1134   , -0.29474  , -0.33785  ,\n",
       "           0.20572  ,  0.086432 ,  0.079524 ,  0.024621 ,  0.015183 ,\n",
       "          -0.46369  ,  0.15475  , -0.034184 , -0.087519 , -0.016564 ,\n",
       "           0.090068 ,  0.28764  , -0.37376  ,  0.45479  , -0.11484  ,\n",
       "          -0.21302  , -0.12544  , -0.27708  , -0.26307  , -0.38875  ,\n",
       "           0.26288  ,  0.43805  ,  0.61139  , -0.10276  , -0.60283  ,\n",
       "          -0.050042 ,  0.11531  , -0.38417  , -0.29701  ,  0.33487  ,\n",
       "           0.21697  ,  0.0078102,  0.041965 , -0.092787 ,  0.13439  ,\n",
       "          -0.083258 ,  0.13998  ,  0.13607  , -0.072207 ,  0.54498  ,\n",
       "          -0.43555  ,  0.25077  ,  0.053487 , -0.243    , -0.0023372,\n",
       "           0.063184 ,  0.12428  , -0.38218  , -0.22298  ,  0.13958  ,\n",
       "          -0.1669   ,  0.11048  ,  0.04803  ,  0.52249  , -0.17329  ,\n",
       "          -0.71301  , -0.10322  ,  0.24168  ,  0.34058  ,  0.46309  ,\n",
       "          -0.20872  ,  0.051474 , -0.031511 , -0.3008   ,  0.10399  ,\n",
       "          -0.14447  , -0.21618  , -0.28071  ,  0.15412  ,  0.43439  ,\n",
       "           0.14447  ,  0.01476  ,  0.032863 ,  0.24105  ,  0.32628  ,\n",
       "          -0.13103  ,  0.42161  , -0.12927  , -0.30319  , -0.10647  ,\n",
       "           0.48115  , -0.036822 ,  0.3318   , -0.048279 , -0.55497  ,\n",
       "           0.28655  , -0.10037  , -0.19553  , -0.19838  , -0.276    ,\n",
       "          -0.14505  , -0.17258  ,  0.1075   ,  0.023469 , -0.23266  ,\n",
       "          -0.0079769,  0.52845  , -0.11018  , -0.094229 ,  0.21695  ,\n",
       "          -0.19263  , -0.26476  , -0.015934 , -0.0063519,  0.075811 ,\n",
       "          -0.23898  , -0.058481 ,  0.3988   ,  0.12295  ,  0.349    ],\n",
       "         dtype=float32),\n",
       "   array([-0.074464 , -0.018784 , -0.11756  ,  0.052405 ,  0.095163 ,\n",
       "          -0.24739  , -0.058091 ,  0.12492  , -0.12717  , -0.042548 ,\n",
       "          -0.18011  ,  0.21876  , -0.22944  ,  0.26288  ,  0.018629 ,\n",
       "          -0.0061826,  0.32488  ,  0.064491 , -0.042982 , -0.20713  ,\n",
       "           0.15113  , -0.20417  , -0.052818 , -0.048751 , -0.0044903,\n",
       "           0.0058986, -0.025037 , -0.017183 , -0.16216  , -0.1592   ,\n",
       "           0.29476  ,  0.081432 ,  0.093511 , -0.079091 ,  0.050034 ,\n",
       "           0.1338   , -0.13539  , -0.037797 ,  0.0011847,  0.044754 ,\n",
       "           0.071367 ,  0.0042415,  0.15665  ,  0.085481 , -0.063377 ,\n",
       "          -0.18763  ,  0.013928 ,  0.11952  ,  0.13203  ,  0.25698  ,\n",
       "           0.10912  ,  0.006463 , -0.040905 ,  0.22375  ,  0.10223  ,\n",
       "           0.040795 ,  0.0040012,  0.039787 ,  0.069105 ,  0.036057 ,\n",
       "          -0.074399 ,  0.030701 ,  0.0814   ,  0.040139 , -0.2578   ,\n",
       "           0.20199  ,  0.062905 ,  0.14157  ,  0.010569 ,  0.086623 ,\n",
       "           0.11495  ,  0.061874 , -0.06457  ,  0.063346 , -0.32572  ,\n",
       "           0.067459 ,  0.11589  ,  0.0099059, -0.097199 , -0.099005 ,\n",
       "          -0.041608 , -0.18268  ,  0.10995  , -0.092809 ,  0.084977 ,\n",
       "           0.20022  , -0.023455 , -0.097291 ,  0.015292 , -0.13776  ,\n",
       "          -0.090757 , -0.10072  , -0.047525 ,  0.11166  , -0.025068 ,\n",
       "          -0.095636 , -0.011022 , -0.052279 ,  0.15773  , -0.056769 ,\n",
       "           0.1238   , -0.081064 , -0.076381 ,  0.020316 , -0.024418 ,\n",
       "           0.1122   ,  0.1145   ,  0.032441 ,  0.026522 , -0.024783 ,\n",
       "          -0.090656 , -0.1234   , -0.28365  , -0.07833  ,  0.11137  ,\n",
       "           0.14956  ,  0.019289 ,  0.069676 ,  0.15573  ,  0.059704 ,\n",
       "           0.041369 , -0.083557 , -0.19757  ,  0.12096  ,  0.060895 ,\n",
       "           0.25038  ,  0.052191 , -0.0011418, -0.12406  ,  0.084075 ,\n",
       "           0.22179  , -0.23884  ,  0.21562  ,  0.086001 ,  0.041714 ,\n",
       "           0.035754 ,  0.011866 , -0.0069194,  0.21467  ,  0.022279 ,\n",
       "           0.14019  ,  0.27186  , -0.13456  , -0.2022   ,  0.084417 ,\n",
       "          -0.15016  , -0.099477 , -0.015416 , -0.10392  , -0.073575 ,\n",
       "          -0.002473 , -0.098446 , -0.11325  ,  0.072525 , -0.02953  ,\n",
       "          -0.10182  ,  0.027107 ,  0.29134  , -0.06891  ,  0.31128  ,\n",
       "          -0.051307 , -0.05653  ,  0.053273 ,  0.050306 ,  0.076453 ,\n",
       "           0.046218 ,  0.12437  ,  0.061984 ,  0.064997 ,  0.087986 ,\n",
       "           0.020578 , -0.13406  ,  0.12718  ,  0.018114 ,  0.19512  ,\n",
       "          -0.16474  ,  0.14318  ,  0.0093987,  0.034898 , -0.043517 ,\n",
       "          -0.12912  , -0.089199 , -0.062836 ,  0.065018 ,  0.1611   ,\n",
       "           0.22548  , -0.18766  , -0.24405  , -0.070635 ,  0.070932 ,\n",
       "          -0.12908  , -0.044973 ,  0.03153  , -0.041743 ,  0.12736  ,\n",
       "          -0.097747 ,  0.27445  ,  0.035345 , -0.10878  ,  0.14236  ,\n",
       "           0.16555  ,  0.13333  , -0.15108  , -0.095933 , -0.13264  ,\n",
       "          -0.13431  , -0.12365  ,  0.032499 ,  0.070343 ,  0.050369 ,\n",
       "          -0.031633 ,  0.0017362,  0.16798  ,  0.18157  , -0.13011  ,\n",
       "           0.16906  , -0.11156  ,  0.024889 ,  0.10784  ,  0.029515 ,\n",
       "          -0.17491  ,  0.0027669, -0.022898 ,  0.097594 ,  0.0068807,\n",
       "          -0.0069841, -0.10355  ,  0.052589 ,  0.18758  ,  0.035892 ,\n",
       "           0.074308 , -0.024185 ,  0.24542  , -0.10929  , -0.11378  ,\n",
       "          -0.15335  ,  0.11886  ,  0.040091 ,  0.12472  , -0.063717 ,\n",
       "          -0.065027 ,  0.15138  ,  0.098687 ,  0.10682  ,  0.087543 ,\n",
       "          -0.1414   , -0.2047   , -0.17821  , -0.0081548,  0.011322 ,\n",
       "          -0.061683 ,  0.17319  , -0.018815 ,  0.020211 , -0.071124 ,\n",
       "          -0.15409  ,  0.34359  , -0.11351  , -0.070136 ,  0.053711 ,\n",
       "          -0.11758  , -0.1362   ,  0.084022 ,  0.079528 , -0.14979  ,\n",
       "          -0.034089 ,  0.0086763, -0.11809  , -0.014505 ,  0.013217 ,\n",
       "          -0.037928 ,  0.057785 ,  0.14563  ,  0.05741  ,  0.021706 ,\n",
       "           0.05268  , -0.01624  , -0.054172 , -0.075924 ,  0.091257 ,\n",
       "           0.14576  ,  0.21526  ,  0.17272  ,  0.18991  ,  0.076404 ,\n",
       "           0.0492   ,  0.076815 ,  0.40235  ,  0.12047  , -0.22826  ,\n",
       "          -0.1405   ,  0.061605 ,  0.28777  , -0.010152 , -0.061334 ,\n",
       "           0.045554 , -0.12946  ,  0.15009  , -0.083511 , -0.091129 ],\n",
       "         dtype=float32),\n",
       "   array([-0.26664  , -0.019093 , -0.087254 , -0.26131  ,  0.14167  ,\n",
       "          -0.42198  , -0.19019  ,  0.24248  ,  0.16154  ,  0.52866  ,\n",
       "          -0.66638  ,  0.17215  , -0.0034764,  0.11214  ,  0.1387   ,\n",
       "           0.0076575, -0.30718  , -0.27094  ,  0.096443 , -0.068852 ,\n",
       "           0.18861  , -0.58873  ,  0.086103 ,  0.23196  , -0.02972  ,\n",
       "          -0.2046   ,  0.30313  ,  0.16515  ,  0.40078  , -0.11994  ,\n",
       "           0.20818  ,  0.25701  ,  0.21082  ,  0.28819  , -0.12106  ,\n",
       "          -0.012282 , -0.18211  , -0.092337 ,  0.3584   , -0.1956   ,\n",
       "          -0.040968 ,  0.066746 , -0.11138  , -0.16076  , -0.23274  ,\n",
       "          -0.0066672, -0.007123 ,  0.4918   , -0.13826  , -0.10435  ,\n",
       "          -0.46193  , -0.10092  ,  0.027457 ,  0.064034 ,  0.061035 ,\n",
       "           0.079544 , -0.26053  , -0.40217  ,  0.22875  , -0.30348  ,\n",
       "          -0.098393 ,  0.16806  ,  0.30459  ,  0.11526  , -0.095476 ,\n",
       "          -0.12283  ,  0.3353   ,  0.40497  , -0.090033 , -0.28474  ,\n",
       "           0.17675  ,  0.46672  , -0.45646  ,  0.28574  , -0.40266  ,\n",
       "          -0.13404  ,  0.32867  ,  0.13983  , -0.15694  , -0.21168  ,\n",
       "           0.15515  , -0.1949   ,  0.25329  ,  0.10308  ,  0.01633  ,\n",
       "           0.025087 , -0.25268  ,  0.36391  , -0.13054  , -0.034643 ,\n",
       "          -0.19411  ,  0.082266 ,  0.074403 ,  0.15648  , -0.002636 ,\n",
       "          -0.035784 ,  0.28537  ,  0.16431  ,  0.086285 , -0.26533  ,\n",
       "          -0.12867  , -0.1825   ,  0.1538   , -0.11572  ,  0.22101  ,\n",
       "           0.11974  , -0.14824  , -0.14648  ,  0.25761  , -0.032351 ,\n",
       "           0.042363 , -0.083983 , -0.23481  , -0.29913  ,  0.24279  ,\n",
       "          -0.19367  ,  0.24146  ,  0.16051  , -0.17677  , -0.0255   ,\n",
       "           0.15113  , -0.31225  , -0.032402 , -0.085943 , -0.27617  ,\n",
       "          -0.1135   ,  0.37001  , -0.41455  , -0.10376  ,  0.080977 ,\n",
       "           0.10236  , -0.12732  , -0.056684 , -0.23175  ,  0.015748 ,\n",
       "           0.33598  , -0.29589  ,  0.11464  , -0.013835 ,  0.15446  ,\n",
       "           0.090192 ,  0.17979  ,  0.12972  , -0.3825   ,  0.064995 ,\n",
       "          -0.29002  ,  0.21327  ,  0.069573 ,  0.32448  ,  0.12869  ,\n",
       "          -0.050179 ,  0.026157 , -0.047573 ,  0.13685  ,  0.1596   ,\n",
       "           0.10277  ,  0.32403  , -0.12398  , -0.089861 , -0.0087601,\n",
       "          -0.30661  , -0.4004   , -0.041631 ,  0.24056  , -0.14602  ,\n",
       "           0.24387  ,  0.086702 ,  0.037139 , -0.10883  ,  0.37262  ,\n",
       "          -0.056052 , -0.44892  ,  0.3173   ,  0.035394 , -0.058568 ,\n",
       "           0.30986  ,  0.018112 , -0.37204  ,  0.46196  , -0.3038   ,\n",
       "           0.27601  , -0.088494 ,  0.26034  , -0.19755  ,  0.37487  ,\n",
       "           0.2574   , -0.41246  , -0.1701   ,  0.015699 , -0.52271  ,\n",
       "          -0.059053 ,  0.39173  ,  0.059289 ,  0.10192  ,  0.61144  ,\n",
       "           0.068688 ,  0.81449  ,  0.22698  , -0.59193  ,  0.090767 ,\n",
       "           0.49598  , -0.072361 ,  0.083602 ,  0.07882  ,  0.14029  ,\n",
       "          -0.34254  , -0.13136  , -0.20203  , -0.033786 , -0.01335  ,\n",
       "          -0.059683 , -0.13473  , -0.12454  , -0.025413 , -0.14631  ,\n",
       "           0.089532 ,  0.35408  , -0.24782  , -0.26824  ,  0.23128  ,\n",
       "          -0.071864 ,  0.25333  , -0.090707 , -0.28215  , -0.097442 ,\n",
       "           0.1266   ,  0.33815  , -0.22713  , -0.19614  ,  0.02261  ,\n",
       "           0.14635  , -0.13911  ,  0.21618  ,  0.15991  , -0.45327  ,\n",
       "           0.0024445,  0.40441  , -0.044316 ,  0.14501  ,  0.19123  ,\n",
       "          -0.52038  ,  0.1341   , -0.19724  ,  0.19778  , -0.30929  ,\n",
       "          -0.51809  ,  0.042306 , -0.053298 ,  0.072278 , -0.23892  ,\n",
       "           0.12886  , -0.19743  , -0.18506  ,  0.61175  ,  0.1847   ,\n",
       "          -0.24355  ,  0.10971  , -0.32726  , -0.16008  ,  0.2797   ,\n",
       "           0.19159  , -0.21707  ,  0.21979  ,  0.28833  , -0.46316  ,\n",
       "          -0.026206 ,  0.086061 ,  0.088516 ,  0.21564  , -0.59908  ,\n",
       "           0.42814  , -0.50689  ,  0.022439 ,  0.092562 ,  0.032589 ,\n",
       "           0.28226  ,  0.17237  , -0.34305  , -0.093787 , -0.28609  ,\n",
       "          -0.1205   , -0.0071856, -0.11492  ,  0.059965 ,  0.076936 ,\n",
       "           0.012554 ,  0.15014  ,  0.31502  , -0.054627 , -0.27838  ,\n",
       "          -0.023743 ,  0.020515 , -0.040867 , -0.1374   ,  0.067618 ,\n",
       "          -0.36222  ,  0.32546  , -0.1046   ,  0.059712 ,  0.35335  ],\n",
       "         dtype=float32)]})"
      ]
     },
     "execution_count": 51,
     "metadata": {},
     "output_type": "execute_result"
    }
   ],
   "source": [
    "# Sanity check\n",
    "random.choice(list(tokenised_data.items()))"
   ]
  },
  {
   "cell_type": "markdown",
   "metadata": {},
   "source": [
    "Finally we need to reshape the vector data for each title into a rank-three tensor that can be passed to Tensorflow."
   ]
  },
  {
   "cell_type": "code",
   "execution_count": 68,
   "metadata": {},
   "outputs": [
    {
     "name": "stdout",
     "output_type": "stream",
     "text": [
      "135 of the books have a title more than 40 words long.\n",
      "11 have a title 0 words long (i.e. no useable data).\n",
      "There are 3378 books in the dataset.\n"
     ]
    },
    {
     "data": {
      "image/png": "[encoded data removed]",
      "text/plain": [
       "<Figure size 432x288 with 1 Axes>"
      ]
     },
     "metadata": {
      "needs_background": "light"
     },
     "output_type": "display_data"
    }
   ],
   "source": [
    "# How long are the titles?\n",
    "lengths = np.array([len(book['vectors']) for key, book in tokenised_data.items()])\n",
    "pyplot.hist(lengths)\n",
    "over_forty = np.where(lengths > 40)[0].shape[0]\n",
    "under_one = np.where(lengths < 1)[0].shape[0]\n",
    "print(f\"{over_forty} of the books have a title more than 40 words long.\")\n",
    "print(f\"{under_one} have a title 0 words long (i.e. no useable data).\")\n",
    "print(f\"There are {len(tokenised_data)} books in the dataset.\")"
   ]
  },
  {
   "cell_type": "code",
   "execution_count": 67,
   "metadata": {},
   "outputs": [
    {
     "data": {
      "text/plain": [
       "135"
      ]
     },
     "execution_count": 67,
     "metadata": {},
     "output_type": "execute_result"
    }
   ],
   "source": [
    "# Get rid of useless records\n",
    "\n",
    "# Reshape the 'vectors' value for each remaining one"
   ]
  }
 ],
 "metadata": {
  "kernelspec": {
   "display_name": "Python 3",
   "language": "python",
   "name": "python3"
  },
  "language_info": {
   "codemirror_mode": {
    "name": "ipython",
    "version": 3
   },
   "file_extension": ".py",
   "mimetype": "text/x-python",
   "name": "python",
   "nbconvert_exporter": "python",
   "pygments_lexer": "ipython3",
   "version": "3.7.0"
  }
 },
 "nbformat": 4,
 "nbformat_minor": 2
}
