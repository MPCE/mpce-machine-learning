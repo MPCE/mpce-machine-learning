{
 "cells": [
  {
   "cell_type": "markdown",
   "metadata": {},
   "source": [
    "# Mapping Print, Charting Enlightenment\n",
    "\n",
    "## Machine Learning Experiment 1: Classifying books by titles and other metadata\n",
    "\n",
    "Team: Rachel Hendery, Tomas Trescak, Katie McDonough, Michael Falk, Simon Burrows\n",
    "\n",
    "## Notebook 2: Converting titles to mean word vectors \n",
    "\n",
    "Author: Michael Falk\n",
    "\n",
    "In this notebook, I experiment with converting each title into a 300-dimensional feature vector using Facebook's pre-trained French word vector model.\n",
    "\n",
    "The model is large (~5GB), so has not been uploaded to the repository. All Facebook's pre-trained models are available here: https://github.com/facebookresearch/fastText/blob/master/pretrained-vectors.md\n",
    "\n",
    "The aim is to allow the model to generalise to unseen titles that have different words, as well as making the features more meaningful for the learning algorithm.\n",
    "\n",
    "NB: If you're running this notebook on windows, you'll need to have a C compiler installed. If you're using Python 3.6+ the interpreter "
   ]
  },
  {
   "cell_type": "code",
   "execution_count": null,
   "metadata": {},
   "outputs": [],
   "source": [
    "# Load pre-train word vectors\n",
    "from gensim.models import KeyedVectors\n",
    "file_path = \"fr_model/wiki.fr.vec\"\n",
    "word_vectors = KeyedVectors.load_word2vec_format(file_path)"
   ]
  },
  {
   "cell_type": "code",
   "execution_count": 8,
   "metadata": {},
   "outputs": [
    {
     "data": {
      "text/plain": [
       "str"
      ]
     },
     "execution_count": 8,
     "metadata": {},
     "output_type": "execute_result"
    }
   ],
   "source": []
  }
 ],
 "metadata": {
  "kernelspec": {
   "display_name": "Python 3",
   "language": "python",
   "name": "python3"
  },
  "language_info": {
   "codemirror_mode": {
    "name": "ipython",
    "version": 3
   },
   "file_extension": ".py",
   "mimetype": "text/x-python",
   "name": "python",
   "nbconvert_exporter": "python",
   "pygments_lexer": "ipython3",
   "version": "3.7.0"
  }
 },
 "nbformat": 4,
 "nbformat_minor": 2
}
