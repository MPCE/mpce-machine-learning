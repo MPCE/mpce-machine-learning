{
 "cells": [
  {
   "cell_type": "markdown",
   "metadata": {},
   "source": [
    "# Mapping Print, Charting Enlightenment\n",
    "\n",
    "## Machine Learning Experiment 1: Classifying books by titles and other metadata\n",
    "\n",
    "Team: Rachel Hendery, Tomas Trescak, Katie McDonough, Michael Falk, Simon Burrows\n",
    "\n",
    "## Notebook 2: Converting titles to mean word vectors \n",
    "\n",
    "Author: Michael Falk\n",
    "\n",
    "In this notebook, I experiment with converting each title into a 300-dimensional feature vector using Facebook's pre-trained French word vector model.\n",
    "\n",
    "The model is large (~5GB), so has not been uploaded to the repository. All Facebook's pre-trained models are available here: https://github.com/facebookresearch/fastText/blob/master/pretrained-vectors.md\n",
    "\n",
    "The binary files FB provides do not work with the Gensim package, which makes them hard to use in python. I have compiled a new version of the bin file that does work with Gensim, which substantially decreases the load time. You can use this code to achieve this:\n",
    "\n",
    "```python\n",
    "from gensim.models import KeyedVectors\n",
    "file_path = \"fr_model/wiki.fr.vec\" # locate .vec file\n",
    "word_vectors = KeyedVectors.load_word2vec_format(file_path) # load into python\n",
    "save_path = \"fr_model/french_vectors.bin\" # choose save path\n",
    "word_vectors.save(save_path, binary = True) # save to it\n",
    "```\n",
    "\n",
    "The aim is to allow the model to generalise to unseen titles that have different words, as well as making the features more meaningful for the learning algorithm.\n",
    "\n",
    "NB: If you're running this notebook on windows, you'll need to have a C compiler installed, and convince Python to use it. Otherwise gensim is very slow. "
   ]
  },
  {
   "cell_type": "code",
   "execution_count": 2,
   "metadata": {},
   "outputs": [
    {
     "name": "stdout",
     "output_type": "stream",
     "text": [
      "Word vector model imported. Import took 35343.8 milliseconds.\n"
     ]
    }
   ],
   "source": [
    "# Load pre-trained word vectors\n",
    "from gensim.models import KeyedVectors\n",
    "import numpy as np\n",
    "import time\n",
    "\n",
    "file_path = \"fr_model/french_vectors.bin\"\n",
    "tic = time.process_time()\n",
    "word_vectors = KeyedVectors.load_word2vec_format(file_path, binary = True)\n",
    "toc = time.process_time()\n",
    "print (\"Word vector model imported. Import took \" + str(1000*(toc - tic)) + \" milliseconds.\")"
   ]
  },
  {
   "cell_type": "code",
   "execution_count": 3,
   "metadata": {},
   "outputs": [
    {
     "data": {
      "text/plain": [
       "(300,)"
      ]
     },
     "execution_count": 3,
     "metadata": {},
     "output_type": "execute_result"
    }
   ],
   "source": [
    "# Sanity check - does word_vectors return a 300-dimensional vector as intended?\n",
    "# (Actually it is a 1d numpy array)\n",
    "word_vectors[\"écraser\"].shape"
   ]
  },
  {
   "cell_type": "code",
   "execution_count": 4,
   "metadata": {},
   "outputs": [],
   "source": [
    "# Load training data and preprocess\n",
    "import pandas as pd # library for manipulating data\n",
    "from nltk.tokenize import wordpunct_tokenize # tokeniser\n",
    "import re # regular expressions\n",
    "\n",
    "data_path = \"data/editions_trimmed.csv\" # locate data file\n",
    "\n",
    "data = pd.read_csv(data_path).dropna()\n",
    "title_strings = [] # initialise list of word vectors\n",
    "for title in data[\"full_book_title\"]: # loop over titles\n",
    "    title = title.lower() # make all letters lower case\n",
    "    tokens = wordpunct_tokenize(title) # tokenise\n",
    "    reg1 = re.compile(\"\\w\") # regex for finding tokens with letters\n",
    "    reg2 = re.compile(\"\\D\") # regex for finding tokens with numbers\n",
    "    filtered = [i for i in tokens if reg1.search(i)] # strip out punctuation\n",
    "    filtered = [i for i in filtered if reg2.search(i)] # strip out numbers\n",
    "    filtered = [i for i in filtered if len(i) > 2] # strip out stopwords TODO: get proper sw list\n",
    "    title_strings.append(filtered) # append to results list"
   ]
  },
  {
   "cell_type": "code",
   "execution_count": 5,
   "metadata": {},
   "outputs": [
    {
     "data": {
      "text/plain": [
       "['expériences',\n",
       " 'observations',\n",
       " 'sur',\n",
       " 'différentes',\n",
       " 'espèces',\n",
       " 'air',\n",
       " 'ouvrage',\n",
       " 'traduit',\n",
       " 'anglois',\n",
       " 'priestley',\n",
       " 'par',\n",
       " 'gibelin']"
      ]
     },
     "execution_count": 5,
     "metadata": {},
     "output_type": "execute_result"
    }
   ],
   "source": [
    "# Sanity check: how does a random title look?\n",
    "import random\n",
    "title_strings[random.randint(1,len(title_strings))]"
   ]
  },
  {
   "cell_type": "markdown",
   "metadata": {},
   "source": [
    "The next step could do with some investigation. From my reading, it is apparently legit to calculate the word embeddings for a whole sentence by getting the word vectors for each word and then averaging them. We will see if this enables the model to train effectively. "
   ]
  },
  {
   "cell_type": "code",
   "execution_count": 6,
   "metadata": {},
   "outputs": [],
   "source": [
    "# Get word vectors for each title\n",
    "import numpy as np\n",
    "\n",
    "def get_mean_word_vec(string_list, word_vectors):\n",
    "    '''\n",
    "    params:\n",
    "    \n",
    "        string_list: a list of strings\n",
    "        word_vectors: a KeyedVectors object (gensim)\n",
    "        \n",
    "        dependencies: numpy, gensim\n",
    "    \n",
    "    desc:\n",
    "    \n",
    "    This function takes a list of strings and a KeyedVectors\n",
    "    object as arguments. It first computes the word vectors for\n",
    "    each string in the list, according to the provided model.\n",
    "    It then takes the mean of the all the vectors. It returns a\n",
    "    single vector, whose dimensionality is determined by the\n",
    "    provided model.\n",
    "    '''\n",
    "    n = word_vectors.vector_size # how many dimensions are the word vectors?\n",
    "    W = np.empty((n,0)) # initialise title matrix\n",
    "    \n",
    "    for word in string_list: # loop through strings\n",
    "        if word in word_vectors.vocab: # check if word is in vocab.\n",
    "            w = word_vectors[word].reshape((n,1)) # if it is, find the vector and check the dimensions\n",
    "            W = np.c_[W, w] # add as column to title matrix\n",
    "    \n",
    "    # take the sum of each row and reshape to a row vector\n",
    "    title_vector = np.nanmean(W, axis = 1).reshape((1,n))\n",
    "    \n",
    "    # title_vector is an 1 x n feature vector of the whole title\n",
    "    \n",
    "    return title_vector"
   ]
  },
  {
   "cell_type": "code",
   "execution_count": 47,
   "metadata": {},
   "outputs": [
    {
     "name": "stderr",
     "output_type": "stream",
     "text": [
      "/Library/Frameworks/Python.framework/Versions/3.7/lib/python3.7/site-packages/ipykernel_launcher.py:31: RuntimeWarning: Mean of empty slice\n"
     ]
    }
   ],
   "source": [
    "# Loop through examples and apply the function.\n",
    "# NB: this produces an error 'Mean of empty slice', which is caused by books that have unparseable words\n",
    "\n",
    "n = word_vectors.vector_size # how many dimensions do our training examples have?\n",
    "X = np.empty((0,n)) # initialise design matrix\n",
    "error_titles = []\n",
    "\n",
    "for i in range(0, len(title_strings)):\n",
    "    try:\n",
    "        title_vector = get_mean_word_vec(title_strings[i], word_vectors) # get mean vector\n",
    "    except:\n",
    "        print(\"Mean vector could not be calculated for title %d\" % i) # catch error\n",
    "        break\n",
    "    finally:\n",
    "        if np.all(np.isnan(title_vector)) == False: # if a title vector is returned...\n",
    "            X = np.r_[X, title_vector] # ... add it to the design matrix.\n",
    "        else: # if not...\n",
    "            error_titles.append(i) # ... add it to the list of titles that caused an error."
   ]
  },
  {
   "cell_type": "markdown",
   "metadata": {},
   "source": [
    "Now we have a matrix, X, with one row for each book, and 300 columns for the means of each word vector feature. 14 of the titles could not be parsed, as can be seen in the cell below. They are all titles with foreign or idiosyncratic names, and most of them were never assigned a parisian keyword."
   ]
  },
  {
   "cell_type": "code",
   "execution_count": 40,
   "metadata": {},
   "outputs": [
    {
     "data": {
      "text/html": [
       "<div>\n",
       "<style scoped>\n",
       "    .dataframe tbody tr th:only-of-type {\n",
       "        vertical-align: middle;\n",
       "    }\n",
       "\n",
       "    .dataframe tbody tr th {\n",
       "        vertical-align: top;\n",
       "    }\n",
       "\n",
       "    .dataframe thead th {\n",
       "        text-align: right;\n",
       "    }\n",
       "</style>\n",
       "<table border=\"1\" class=\"dataframe\">\n",
       "  <thead>\n",
       "    <tr style=\"text-align: right;\">\n",
       "      <th></th>\n",
       "      <th>full_book_title</th>\n",
       "      <th>stated_publication_places</th>\n",
       "      <th>number_of_volumes</th>\n",
       "      <th>parisian_keyword</th>\n",
       "    </tr>\n",
       "  </thead>\n",
       "  <tbody>\n",
       "    <tr>\n",
       "      <th>206</th>\n",
       "      <td>[Bonnetre]</td>\n",
       "      <td>n.pl.</td>\n",
       "      <td>1</td>\n",
       "      <td>Undetermined</td>\n",
       "    </tr>\n",
       "    <tr>\n",
       "      <th>217</th>\n",
       "      <td>[Carloine]</td>\n",
       "      <td>n.pl.</td>\n",
       "      <td>2</td>\n",
       "      <td>Undetermined</td>\n",
       "    </tr>\n",
       "    <tr>\n",
       "      <th>636</th>\n",
       "      <td>[Zunia]</td>\n",
       "      <td>n.pl.</td>\n",
       "      <td>1</td>\n",
       "      <td>Undetermined</td>\n",
       "    </tr>\n",
       "    <tr>\n",
       "      <th>2106</th>\n",
       "      <td>[Lettri di Pesseri]</td>\n",
       "      <td>n.pl.</td>\n",
       "      <td>1</td>\n",
       "      <td>Undetermined</td>\n",
       "    </tr>\n",
       "    <tr>\n",
       "      <th>2185</th>\n",
       "      <td>[Parlemang]</td>\n",
       "      <td>n.pl.</td>\n",
       "      <td>1</td>\n",
       "      <td>Belles-Lettres</td>\n",
       "    </tr>\n",
       "    <tr>\n",
       "      <th>2486</th>\n",
       "      <td>[l'Enotenus]</td>\n",
       "      <td>n.pl.</td>\n",
       "      <td>1</td>\n",
       "      <td>Undetermined</td>\n",
       "    </tr>\n",
       "    <tr>\n",
       "      <th>2580</th>\n",
       "      <td>[Morhieu]</td>\n",
       "      <td>n.pl.</td>\n",
       "      <td>1</td>\n",
       "      <td>Undetermined</td>\n",
       "    </tr>\n",
       "    <tr>\n",
       "      <th>2695</th>\n",
       "      <td>[Ferben neüe Beytrage]</td>\n",
       "      <td>n.pl.</td>\n",
       "      <td>1</td>\n",
       "      <td>Undetermined</td>\n",
       "    </tr>\n",
       "    <tr>\n",
       "      <th>2698</th>\n",
       "      <td>[Färb n bleick]</td>\n",
       "      <td>n.pl.</td>\n",
       "      <td>1</td>\n",
       "      <td>Undetermined</td>\n",
       "    </tr>\n",
       "    <tr>\n",
       "      <th>2867</th>\n",
       "      <td>[Soubzers]</td>\n",
       "      <td>n.pl.</td>\n",
       "      <td>2</td>\n",
       "      <td>Undetermined</td>\n",
       "    </tr>\n",
       "    <tr>\n",
       "      <th>2948</th>\n",
       "      <td>[Wathek]</td>\n",
       "      <td>n.pl.</td>\n",
       "      <td>1</td>\n",
       "      <td>Undetermined</td>\n",
       "    </tr>\n",
       "    <tr>\n",
       "      <th>3259</th>\n",
       "      <td>[Iuvenalis]</td>\n",
       "      <td>n.pl.</td>\n",
       "      <td>1</td>\n",
       "      <td>Belles-Lettres</td>\n",
       "    </tr>\n",
       "    <tr>\n",
       "      <th>3360</th>\n",
       "      <td>Xenophontis Cyropaedia</td>\n",
       "      <td>n.pl.</td>\n",
       "      <td>2</td>\n",
       "      <td>Science et Arts</td>\n",
       "    </tr>\n",
       "    <tr>\n",
       "      <th>3883</th>\n",
       "      <td>[Aluste]</td>\n",
       "      <td>n.pl.</td>\n",
       "      <td>1</td>\n",
       "      <td>Undetermined</td>\n",
       "    </tr>\n",
       "  </tbody>\n",
       "</table>\n",
       "</div>"
      ],
      "text/plain": [
       "             full_book_title stated_publication_places  number_of_volumes  \\\n",
       "206               [Bonnetre]                     n.pl.                  1   \n",
       "217               [Carloine]                     n.pl.                  2   \n",
       "636                  [Zunia]                     n.pl.                  1   \n",
       "2106     [Lettri di Pesseri]                     n.pl.                  1   \n",
       "2185             [Parlemang]                     n.pl.                  1   \n",
       "2486            [l'Enotenus]                     n.pl.                  1   \n",
       "2580               [Morhieu]                     n.pl.                  1   \n",
       "2695  [Ferben neüe Beytrage]                     n.pl.                  1   \n",
       "2698         [Färb n bleick]                     n.pl.                  1   \n",
       "2867              [Soubzers]                     n.pl.                  2   \n",
       "2948                [Wathek]                     n.pl.                  1   \n",
       "3259             [Iuvenalis]                     n.pl.                  1   \n",
       "3360  Xenophontis Cyropaedia                     n.pl.                  2   \n",
       "3883                [Aluste]                     n.pl.                  1   \n",
       "\n",
       "     parisian_keyword  \n",
       "206      Undetermined  \n",
       "217      Undetermined  \n",
       "636      Undetermined  \n",
       "2106     Undetermined  \n",
       "2185   Belles-Lettres  \n",
       "2486     Undetermined  \n",
       "2580     Undetermined  \n",
       "2695     Undetermined  \n",
       "2698     Undetermined  \n",
       "2867     Undetermined  \n",
       "2948     Undetermined  \n",
       "3259   Belles-Lettres  \n",
       "3360  Science et Arts  \n",
       "3883     Undetermined  "
      ]
     },
     "execution_count": 40,
     "metadata": {},
     "output_type": "execute_result"
    }
   ],
   "source": [
    "data.iloc[error_titles]\n",
    "\n",
    "# The row numbers printed below are all wrong, because pandas retains row numbers\n",
    "# when you drop NaNs."
   ]
  },
  {
   "cell_type": "code",
   "execution_count": 66,
   "metadata": {},
   "outputs": [
    {
     "name": "stdout",
     "output_type": "stream",
     "text": [
      "The shape of y is (3824,)\n",
      "The shape of X is (3824, 300)\n"
     ]
    }
   ],
   "source": [
    "# Finally get the ground truth data for the 3824 examples that could be parsed.\n",
    "# Pandas is really stupid and doesn't let you filter out rows by index, as far as I can tell...\n",
    "\n",
    "seq = list(range(0,len(data))) # generate sequence of row numbers\n",
    "to_keep = [i for i in seq if i not in error_titles] # remove the titles that could not be parsed\n",
    "\n",
    "y = np.array(data[\"parisian_keyword\"].iloc[to_keep])\n",
    "\n",
    "# Sanity check:\n",
    "print(\"The shape of y is \" + str(y.shape))\n",
    "print(\"The shape of X is \" + str(X.shape))"
   ]
  },
  {
   "cell_type": "markdown",
   "metadata": {},
   "source": [
    "Now we can export the design matrix and ground truth data for use in a Colab Notebook."
   ]
  },
  {
   "cell_type": "code",
   "execution_count": 49,
   "metadata": {},
   "outputs": [],
   "source": [
    "import pickle\n",
    "\n",
    "title_vector_data = {\"X\": X, \"y\": y}\n",
    "\n",
    "pickle.dump(title_vector_data, open(\"data/title_vector_data.p\", \"wb\"))"
   ]
  },
  {
   "cell_type": "markdown",
   "metadata": {},
   "source": [
    "Before we get onto training some serious models, let's have one last look at logistic regression."
   ]
  },
  {
   "cell_type": "code",
   "execution_count": 53,
   "metadata": {},
   "outputs": [],
   "source": [
    "# A function for plotting the confusion matrix, copied from scikit-learn.org\n",
    "import itertools\n",
    "import matplotlib.pyplot as plt\n",
    "def plot_confusion_matrix(cm, classes,\n",
    "                          normalize=False,\n",
    "                          title='Confusion matrix',\n",
    "                          cmap=plt.cm.Blues):\n",
    "    \"\"\"\n",
    "    This function prints and plots the confusion matrix.\n",
    "    Normalization can be applied by setting `normalize=True`.\n",
    "    \"\"\"\n",
    "    if normalize:\n",
    "        cm = cm.astype('float') / cm.sum(axis=1)[:, np.newaxis]\n",
    "        # print(\"Normalized confusion matrix\")\n",
    "    # else:\n",
    "        # print('Confusion matrix, without normalization')\n",
    "\n",
    "    # print(cm)\n",
    "\n",
    "    plt.imshow(cm, interpolation='nearest', cmap=cmap)\n",
    "    plt.title(title)\n",
    "    plt.colorbar()\n",
    "    tick_marks = np.arange(len(classes))\n",
    "    plt.xticks(tick_marks, classes, rotation = 90)\n",
    "    plt.yticks(tick_marks, classes)\n",
    "\n",
    "    fmt = '.2f' if normalize else 'd'\n",
    "    thresh = cm.max() / 2.\n",
    "    for i, j in itertools.product(range(cm.shape[0]), range(cm.shape[1])):\n",
    "        plt.text(j, i, format(cm[i, j], fmt),\n",
    "                 horizontalalignment=\"center\",\n",
    "                 color=\"white\" if cm[i, j] > thresh else \"black\")\n",
    "\n",
    "    plt.tight_layout()\n",
    "    plt.ylabel('True label')\n",
    "    plt.xlabel('Predicted label')"
   ]
  },
  {
   "cell_type": "code",
   "execution_count": 75,
   "metadata": {},
   "outputs": [],
   "source": [
    "# Split into training and test data\n",
    "from sklearn.model_selection import train_test_split\n",
    "X_train, X_test, y_train, y_test = train_test_split(X, y, test_size = 0.25, random_state=2)\n",
    "\n",
    "# Use sklearn's logistic regression model\n",
    "from sklearn.multiclass import OneVsRestClassifier\n",
    "from sklearn.linear_model import LogisticRegression\n",
    "lg = OneVsRestClassifier(estimator = LogisticRegression(max_iter = 1000), n_jobs = 2) # initialise classifier\n",
    "lg.fit(X_train, y_train) # fit to the training data\n",
    "predictions = lg.predict(X_test) # compute predictions for the test data"
   ]
  },
  {
   "cell_type": "code",
   "execution_count": 69,
   "metadata": {},
   "outputs": [
    {
     "name": "stdout",
     "output_type": "stream",
     "text": [
      "\n",
      " \n",
      "The model classified 717 of the 956 examples correctly.\n",
      "Accuracy = 75.2%\n"
     ]
    },
    {
     "data": {
      "image/png": "[encoded data removed]",
      "text/plain": [
       "<Figure size 432x288 with 2 Axes>"
      ]
     },
     "metadata": {
      "needs_background": "light"
     },
     "output_type": "display_data"
    }
   ],
   "source": [
    "# Compute confusion matrix and accuracy\n",
    "correct = predictions == y_test\n",
    "accuracy = correct.sum()/len(correct)*100\n",
    "print(\"\\n \\nThe model classified %d of the %d examples correctly.\" % (correct.sum(), len(correct)))\n",
    "print(\"Accuracy = %d.2%%\" % accuracy)\n",
    "\n",
    "from sklearn.metrics import confusion_matrix\n",
    "cm = confusion_matrix(y_test, predictions)\n",
    "plt.figure()\n",
    "plot_confusion_matrix(cm, classes=lg.classes_, normalize = True)\n",
    "plt.show()"
   ]
  },
  {
   "cell_type": "code",
   "execution_count": 76,
   "metadata": {},
   "outputs": [
    {
     "name": "stdout",
     "output_type": "stream",
     "text": [
      "\n",
      " \n",
      "The model classified 570 of the 956 examples correctly.\n",
      "Accuracy = 59.2%\n"
     ]
    },
    {
     "data": {
      "image/png": "[encoded data removed]",
      "text/plain": [
       "<Figure size 432x288 with 2 Axes>"
      ]
     },
     "metadata": {
      "needs_background": "light"
     },
     "output_type": "display_data"
    }
   ],
   "source": [
    "# Or we could try an SVM.\n",
    "from sklearn.svm import SVC\n",
    "\n",
    "model = SVC().fit(X_train, y_train) # train the model\n",
    "pred_svm = model.predict(X_test) # compute predictions for test set\n",
    "correct = pred_svm == y_test # find correct predictions\n",
    "accuracy = correct.sum()/len(correct)*100 # calculate the accuracy\n",
    "\n",
    "print(\"\\n \\nThe model classified %d of the %d examples correctly.\" % (correct.sum(), len(correct)))\n",
    "print(\"Accuracy = %d.2%%\" % accuracy)\n",
    "\n",
    "cm_svm = confusion_matrix(y_test, pred_svm)\n",
    "plt.figure()\n",
    "plot_confusion_matrix(cm_svm, classes=model.classes_, normalize = True)\n",
    "plt.show()"
   ]
  },
  {
   "cell_type": "markdown",
   "metadata": {},
   "source": [
    "These models don't seem to do any better than the original. I find this quite interesting, because I thought that the model trained on word vectors would generalise much better to new titles that have unfamilar words.\n",
    "\n",
    "Let's see if a neural net can do a better job."
   ]
  }
 ],
 "metadata": {
  "kernelspec": {
   "display_name": "Python 3",
   "language": "python",
   "name": "python3"
  },
  "language_info": {
   "codemirror_mode": {
    "name": "ipython",
    "version": 3
   },
   "file_extension": ".py",
   "mimetype": "text/x-python",
   "name": "python",
   "nbconvert_exporter": "python",
   "pygments_lexer": "ipython3",
   "version": "3.6.4"
  }
 },
 "nbformat": 4,
 "nbformat_minor": 2
}
